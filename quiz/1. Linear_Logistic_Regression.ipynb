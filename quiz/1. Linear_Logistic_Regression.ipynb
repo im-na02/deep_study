{
 "cells": [
  {
   "cell_type": "markdown",
   "metadata": {},
   "source": [
    "# lab02 simple linear regression"
   ]
  },
  {
   "cell_type": "markdown",
   "metadata": {},
   "source": [
    "## 아래의 독립변수와 종속변수 데이터로 linear hypothesis를 만드시오\n",
    "hypothesis"
   ]
  },
  {
   "cell_type": "code",
   "execution_count": 1,
   "metadata": {},
   "outputs": [
    {
     "name": "stdout",
     "output_type": "stream",
     "text": [
      "<tf.Variable 'Variable:0' shape=() dtype=float32, numpy=2.1>\n",
      "<tf.Variable 'Variable:0' shape=() dtype=float32, numpy=2.5>\n"
     ]
    },
    {
     "data": {
      "text/plain": [
       "<tf.Tensor: shape=(5,), dtype=float32, numpy=\n",
       "array([ 4.6     ,  6.7     ,  8.799999, 10.9     , 13.      ],\n",
       "      dtype=float32)>"
      ]
     },
     "execution_count": 1,
     "metadata": {},
     "output_type": "execute_result"
    }
   ],
   "source": [
    "import tensorflow as tf\n",
    "\n",
    "# data\n",
    "x_data = [1,2,3,4,5]\n",
    "y_data = [1,2,3,4,5]\n",
    "\n",
    "# weight 2.1\n",
    "##############################\n",
    "W = tf.Variable(2.1)\n",
    "##############################\n",
    "print(W)\n",
    "\n",
    "\n",
    "# bias 2.5\n",
    "##############################\n",
    "b = tf.Variable(2.5)\n",
    "##############################\n",
    "print(b)\n",
    "\n",
    "# hypothesis\n",
    "##############################\n",
    "hypothesis = x_data * W + b\n",
    "##############################\n",
    "hypothesis"
   ]
  },
  {
   "cell_type": "markdown",
   "metadata": {},
   "source": [
    "## 위의 hypothesis를 활용해서 linear regression의 cost 함수를 만드시오\n",
    "cost"
   ]
  },
  {
   "cell_type": "code",
   "execution_count": 7,
   "metadata": {},
   "outputs": [
    {
     "data": {
      "text/plain": [
       "<tf.Tensor: shape=(), dtype=float32, numpy=36.059998>"
      ]
     },
     "execution_count": 7,
     "metadata": {},
     "output_type": "execute_result"
    }
   ],
   "source": [
    "import tensorflow as tf\n",
    "\n",
    "# cost\n",
    "##############################\n",
    "cost = tf.reduce_mean(tf.square(hypothesis - y_data))\n",
    "##############################\n",
    "cost"
   ]
  },
  {
   "cell_type": "markdown",
   "metadata": {},
   "source": [
    "## gradient descent 1 epoch를 실행하시오\n",
    "현재 기울기, gradient descent 1 epoch 실행후 기울기"
   ]
  },
  {
   "cell_type": "code",
   "execution_count": 28,
   "metadata": {},
   "outputs": [
    {
     "name": "stdout",
     "output_type": "stream",
     "text": [
      "39.199997 11.599999\n",
      "원래 W와 b: 2.1 2.5\n",
      "원래 gradient 업데이트 후 W와 b: 1.708 2.384\n"
     ]
    }
   ],
   "source": [
    "tf.random.set_seed(7)\n",
    "\n",
    "x_data = [1,2,3,4,5]\n",
    "y_data = [1,2,3,4,5]\n",
    "\n",
    "W = tf.Variable(2.1)\n",
    "b = tf.Variable(2.5)\n",
    "\n",
    "# learning rate 0.01\n",
    "learning_rate = 0.01\n",
    "\n",
    "# gradient descent 1 epoch\n",
    "## GradientTape\n",
    "##############################\n",
    "with tf.GradientTape() as tape :\n",
    "    hypothesis = W * x_data + b\n",
    "    cost = tf.reduce_mean(tf.square(hypothesis - y_data))\n",
    "##############################\n",
    "\n",
    "## print current gradient\n",
    "##############################\n",
    "w_grad, b_grad = tape.gradient(cost, [W, b])\n",
    "print(w_grad.numpy(), b_grad.numpy())\n",
    "##############################\n",
    "\n",
    "print('원래 W와 b:', W.numpy(), b.numpy())\n",
    "## update gradient\n",
    "##############################\n",
    "W.assign_sub(learning_rate * w_grad)\n",
    "b.assign_sub(learning_rate * b_grad)\n",
    "##############################\n",
    "\n",
    "\n",
    "## print updated gradient\n",
    "##############################\n",
    "print('원래 gradient 업데이트 후 W와 b:', W.numpy(), b.numpy())\n",
    "##############################"
   ]
  },
  {
   "cell_type": "markdown",
   "metadata": {},
   "source": [
    "## tf.GradientTape()로 y = x ^ 2에서 x = 3일 때의 기울기를 구하시오\n",
    "기울기"
   ]
  },
  {
   "cell_type": "code",
   "execution_count": 37,
   "metadata": {},
   "outputs": [
    {
     "data": {
      "text/plain": [
       "6.0"
      ]
     },
     "execution_count": 37,
     "metadata": {},
     "output_type": "execute_result"
    }
   ],
   "source": [
    "# 상수 x\n",
    "x = tf.constant(3.0)\n",
    "\n",
    "# GradientTape()\n",
    "#######################################\n",
    "with tf.GradientTape() as tape :\n",
    "    tape.watch(x)\n",
    "    y = x*x\n",
    "#######################################\n",
    "\n",
    "# x = 3일 때 gradient 출력\n",
    "#######################################\n",
    "tape.gradient(y, x).numpy() # 상수를 못 받고, variable만 받을 수 있음\n",
    "#######################################"
   ]
  },
  {
   "cell_type": "markdown",
   "metadata": {},
   "source": [
    "## gradient descent alorithm으로 파라미터를 101번 업데이트 하시오\n",
    "100번째 업데이트 후의 W, b 값과 cost 값 출력"
   ]
  },
  {
   "cell_type": "code",
   "execution_count": 40,
   "metadata": {},
   "outputs": [
    {
     "name": "stdout",
     "output_type": "stream",
     "text": [
      "0 |\t1.7079999446868896 |\t2.384000062942505 |\t36.05999755859375\n",
      "10 |\t0.5413192510604858 |\t1.9879915714263916 |\t0.8665646314620972\n",
      "20 |\t0.47976887226104736 |\t1.9005126953125 |\t0.6615192294120789\n",
      "30 |\t0.4919293224811554 |\t1.8357959985733032 |\t0.6175261735916138\n",
      "40 |\t0.5085010528564453 |\t1.7745680809020996 |\t0.5770807862281799\n",
      "50 |\t0.5248445868492126 |\t1.7154686450958252 |\t0.5392872095108032\n",
      "60 |\t0.5406656265258789 |\t1.6583433151245117 |\t0.5039688348770142\n",
      "70 |\t0.5559612512588501 |\t1.6031209230422974 |\t0.47096362709999084\n",
      "80 |\t0.5707476139068604 |\t1.5497373342514038 |\t0.4401198923587799\n",
      "90 |\t0.5850416421890259 |\t1.498131275177002 |\t0.4112960696220398\n",
      "100 |\t0.5988597273826599 |\t1.448243498802185 |\t0.38435977697372437\n"
     ]
    }
   ],
   "source": [
    "W = tf.Variable(2.1)\n",
    "b = tf.Variable(2.5)\n",
    "\n",
    "# learning rate 0.01\n",
    "learning_rate = 0.01\n",
    "\n",
    "# 반복\n",
    "for i in range(100+1):\n",
    "    # GradientTape\n",
    "    #######################################\n",
    "    with tf.GradientTape() as tape :\n",
    "        hypothesis = W * x_data + b\n",
    "        cost = tf.reduce_mean(tf.square(hypothesis - y_data))\n",
    "    #######################################\n",
    "    \n",
    "    # 현재 기울기\n",
    "    #######################################\n",
    "    w_grad, b_grad = tape.gradient(cost, [W, b])\n",
    "    #######################################\n",
    "    \n",
    "    # 업데이트 후 기울기\n",
    "    #######################################\n",
    "    W.assign_sub(learning_rate * w_grad)\n",
    "    b.assign_sub(learning_rate * b_grad)\n",
    "    #######################################\n",
    "    \n",
    "    # 10번 업데이트 후 W, b, cost 출력\n",
    "    #######################################\n",
    "    if i % 10 == 0 :\n",
    "        print(f'{i} |\\t{W.numpy()} |\\t{b.numpy()} |\\t{cost.numpy()}')\n",
    "    #######################################"
   ]
  },
  {
   "cell_type": "markdown",
   "metadata": {},
   "source": [
    "# lab03 how to minimize cost"
   ]
  },
  {
   "cell_type": "markdown",
   "metadata": {},
   "source": [
    "## linear regression model의 cost function을 tensorflow 사용하지 않고 짜기(numpy 가능)\n",
    "hypothesis는 H(X) = W * X라고 가정하고, 아래 제시한 weight에 대해서 cost function의 값을 출력하시오"
   ]
  },
  {
   "cell_type": "code",
   "execution_count": 47,
   "metadata": {},
   "outputs": [
    {
     "name": "stdout",
     "output_type": "stream",
     "text": [
      "74.66666666666667\n",
      "54.85714285714287\n",
      "38.095238095238095\n",
      "24.380952380952383\n",
      "13.714285714285717\n",
      "6.095238095238099\n",
      "1.5238095238095248\n",
      "0.0\n",
      "1.5238095238095226\n",
      "6.0952380952380905\n",
      "13.714285714285703\n",
      "24.380952380952383\n",
      "38.09523809523808\n",
      "54.85714285714284\n",
      "74.66666666666667\n"
     ]
    }
   ],
   "source": [
    "import numpy as np\n",
    "\n",
    "X = np.array([1,2,3])\n",
    "Y = np.array([1,2,3])\n",
    "\n",
    "# cost funtion 정의\n",
    "def cost_func(W, X, Y) :\n",
    "    #######################################\n",
    "    return np.square(W*X - Y).mean()\n",
    "    #######################################\n",
    "\n",
    "# 아래 제시한 w값에 대해 cost function 값 출력\n",
    "for feed_W in np.linspace(-3, 5, num = 15) :\n",
    "    #######################################\n",
    "    print(cost_func(feed_W, X, Y))\n",
    "    #######################################"
   ]
  },
  {
   "cell_type": "markdown",
   "metadata": {},
   "source": [
    "## linear regression model의 cost function을 tensorflow로 짜기\n",
    "hypothesis는 H(X) = W * X라고 가정하고, 아래 제시한 weight에 대해서 cost function의 값을 출력하시오"
   ]
  },
  {
   "cell_type": "code",
   "execution_count": 49,
   "metadata": {},
   "outputs": [
    {
     "name": "stdout",
     "output_type": "stream",
     "text": [
      "W : -3.00 | cost : 74.67\n",
      "W : -2.43 | cost : 54.86\n",
      "W : -1.86 | cost : 38.10\n",
      "W : -1.29 | cost : 24.38\n",
      "W : -0.71 | cost : 13.71\n",
      "W : -0.14 | cost :  6.10\n",
      "W :  0.43 | cost :  1.52\n",
      "W :  1.00 | cost :  0.00\n",
      "W :  1.57 | cost :  1.52\n",
      "W :  2.14 | cost :  6.10\n",
      "W :  2.71 | cost : 13.71\n",
      "W :  3.29 | cost : 24.38\n",
      "W :  3.86 | cost : 38.10\n",
      "W :  4.43 | cost : 54.86\n",
      "W :  5.00 | cost : 74.67\n"
     ]
    }
   ],
   "source": [
    "import tensorflow as tf\n",
    "\n",
    "X = np.array([1,2,3])\n",
    "Y = np.array([1,2,3])\n",
    "\n",
    "# cost function 정의(tensorflow 사용)\n",
    "def cost_func(W, X, Y) :\n",
    "    #######################################\n",
    "    return tf.reduce_mean(tf.square(X*W - Y))\n",
    "    #######################################\n",
    "    \n",
    "W_values = np.linspace(-3, 5, num=15)\n",
    "\n",
    "for feed_W in W_values :\n",
    "    print(f'W : {feed_W:5.2f} | cost : {cost_func(feed_W, X, Y):5.2f}')"
   ]
  },
  {
   "attachments": {
    "image.png": {
     "image/png": "[encoded data removed]"
    }
   },
   "cell_type": "markdown",
   "metadata": {},
   "source": [
    "## linear regression model의 cost function이 아래와 같을 때 GradientTape 없이(그외 tensorflow code 사용가능) gradient descent를 구현하시오\n",
    "![image.png](attachment:image.png)\n",
    "매 10회마다 w, cost 출력"
   ]
  },
  {
   "cell_type": "code",
   "execution_count": 74,
   "metadata": {},
   "outputs": [
    {
     "name": "stdout",
     "output_type": "stream",
     "text": [
      "i :     0 | W : 45.59 | cost : 11716.31\n",
      "i :    10 | W : 14.91 | cost : 1139.18\n",
      "i :    20 | W :  5.34 | cost : 110.76\n",
      "i :    30 | W :  2.35 | cost : 10.77\n",
      "i :    40 | W :  1.42 | cost :  1.05\n",
      "i :    50 | W :  1.13 | cost :  0.10\n",
      "i :    60 | W :  1.04 | cost :  0.01\n",
      "i :    70 | W :  1.01 | cost :  0.00\n",
      "i :    80 | W :  1.00 | cost :  0.00\n",
      "i :    90 | W :  1.00 | cost :  0.00\n"
     ]
    }
   ],
   "source": [
    "tf.random.set_seed(0)\n",
    "\n",
    "X = np.array([1,2,3])\n",
    "Y = np.array([1,2,3])\n",
    "\n",
    "W = tf.Variable(tf.random.normal([1], -100., 100.))\n",
    "\n",
    "w = []; c = []\n",
    "# 300회 gradient descent(update)\n",
    "for i in range(100) :\n",
    "    \n",
    "    hypothesis = W * X\n",
    "    cost = tf.reduce_mean(tf.square(hypothesis - Y))\n",
    "    \n",
    "    # 현재 gradient\n",
    "    #######################################\n",
    "    learning_rate = 0.01\n",
    "    gradient = tf.reduce_mean(tf.reduce_mean(tf.multiply(tf.multiply(W, x_data)-y_data, x_data)))\n",
    "    #######################################\n",
    "    \n",
    "    # gradient update\n",
    "    #######################################\n",
    "    descent = W - tf.multiply(learning_rate, gradient)\n",
    "    W.assign(descent)\n",
    "    #######################################\n",
    "    w.append(W.numpy()[0]); c.append(cost.numpy())\n",
    "    # 매 10회마다 출력\n",
    "    if i % 10 == 0 :\n",
    "        print(f'i : {i:5} | W : {W.numpy()[0]:5.2f} | cost : {cost:5.2f}')"
   ]
  },
  {
   "cell_type": "markdown",
   "metadata": {},
   "source": [
    "# lab04 multi-variable linear regression(matrix!!!!!!!!!!!!!)"
   ]
  },
  {
   "cell_type": "markdown",
   "metadata": {},
   "source": [
    "## 아래와 같이 데이터가 주어졌을 때 tensorflow의 matrix 연산으로 hypothesis와 cost function을 계산하는 식을 완전하라."
   ]
  },
  {
   "cell_type": "code",
   "execution_count": 56,
   "metadata": {},
   "outputs": [
    {
     "name": "stdout",
     "output_type": "stream",
     "text": [
      "i : 0 | cost : 1798.2894287109375\n",
      "i : 200 | cost : 1.985764741897583\n",
      "i : 400 | cost : 1.9071285724639893\n",
      "i : 600 | cost : 1.8354984521865845\n",
      "i : 800 | cost : 1.770180106163025\n",
      "i : 1000 | cost : 1.7105076313018799\n",
      "i : 1200 | cost : 1.655937910079956\n",
      "i : 1400 | cost : 1.6059433221817017\n",
      "i : 1600 | cost : 1.560052514076233\n",
      "i : 1800 | cost : 1.5178825855255127\n",
      "i : 2000 | cost : 1.4790351390838623\n"
     ]
    }
   ],
   "source": [
    "tf.random.set_seed(0)\n",
    "\n",
    "data = np.array([\n",
    "    [73, 80, 75, 152],\n",
    "    [93, 88, 93, 185],\n",
    "    [89, 91, 90, 180],\n",
    "    [96, 98, 100, 196],\n",
    "    [73, 66, 70, 142]],\n",
    "    dtype = np.float32)\n",
    "\n",
    "X = data[:, :-1]\n",
    "Y = data[:, [-1]]\n",
    "\n",
    "# W, b 에 tensorflow 변수 객체 할당\n",
    "#######################################\n",
    "W = tf.Variable(tf.random.normal([3,1]))\n",
    "b = tf.Variable(tf.random.normal([1]))\n",
    "#######################################\n",
    "\n",
    "n_epochs = 2000\n",
    "for i in range(n_epochs+1) :\n",
    "    with tf.GradientTape() as tape :\n",
    "        # hypothesis, cost\n",
    "        ##################################### 채우시오\n",
    "        hypothesis = tf.matmul(X, W) + b\n",
    "        cost = tf.reduce_mean(tf.square(hypothesis - Y))\n",
    "        #####################################\n",
    "        \n",
    "    W_grad, b_grad = tape.gradient(cost, [W,b])\n",
    "    \n",
    "    learning_rate = 0.00001\n",
    "    W.assign_sub(learning_rate * W_grad)\n",
    "    b.assign_sub(learning_rate * b_grad)\n",
    "    \n",
    "    if i % 200 == 0 :\n",
    "        print(f'i : {i} | cost : {cost.numpy()}')"
   ]
  },
  {
   "cell_type": "markdown",
   "metadata": {},
   "source": [
    "# lab 05 logistic regression"
   ]
  },
  {
   "cell_type": "markdown",
   "metadata": {},
   "source": [
    "## logictic regression 구현에서 빈칸을 채우세요..^^;"
   ]
  },
  {
   "cell_type": "code",
   "execution_count": 92,
   "metadata": {},
   "outputs": [
    {
     "name": "stdout",
     "output_type": "stream",
     "text": [
      "Iter: 0, Loss: 0.6874\n",
      "Iter: 100, Loss: 0.5776\n",
      "Iter: 200, Loss: 0.5349\n",
      "Iter: 300, Loss: 0.5054\n",
      "Iter: 400, Loss: 0.4838\n",
      "Iter: 500, Loss: 0.4671\n",
      "Iter: 600, Loss: 0.4535\n",
      "Iter: 700, Loss: 0.4420\n",
      "Iter: 800, Loss: 0.4319\n",
      "Iter: 900, Loss: 0.4228\n",
      "Iter: 1000, Loss: 0.4144\n",
      "Testset Accuracy: 1.0000\n"
     ]
    }
   ],
   "source": [
    "# seed 설정\n",
    "tf.random.set_seed(0)\n",
    "\n",
    "# 훈련/테스트 데이터\n",
    "x_train = [[1., 2.],\n",
    "          [2., 3.],\n",
    "          [3., 1.],\n",
    "          [4., 3.],\n",
    "          [5., 3.],\n",
    "          [6., 2.]]\n",
    "y_train = [[0.],\n",
    "          [0.],\n",
    "          [0.],\n",
    "          [1.],\n",
    "          [1.],\n",
    "          [1.]]\n",
    "\n",
    "x_test = [[5.,2.]]\n",
    "y_test = [[1.]]\n",
    "\n",
    "# batch size(한번에 학습시킬 양) 설정\n",
    "dataset = tf.data.Dataset.from_tensor_slices((x_train, y_train)).batch(len(x_train))\n",
    "\n",
    "# tensorflow Variable 설정\n",
    "W = tf.Variable(tf.zeros([2,1]), name='weight')\n",
    "b = tf.Variable(tf.zeros([1]), name='bias')\n",
    "\n",
    "# 가설 설정 함수\n",
    "def logistic_regression(features):\n",
    "    ##############################################\n",
    "    hypothesis  = tf.divide(1., 1 + tf.exp(tf.matmul(features, W) + b))\n",
    "    ##############################################\n",
    "    return hypothesis\n",
    "\n",
    "# cost/loss function 함수\n",
    "def loss_fn(features, labels):\n",
    "    ##############################################\n",
    "    cost = -tf.reduce_mean(labels * tf.math.log(logistic_regression(features)) + \\\n",
    "                           (1 - labels) * tf.math.log(1 - logistic_regression(features)))\n",
    "    ##############################################\n",
    "    return cost\n",
    "\n",
    "# cost function에서 gradient 구하는 함수\n",
    "def grad(features, labels):\n",
    "    with tf.GradientTape() as tape:\n",
    "        loss_value = loss_fn(features,labels)\n",
    "    ##############################################\n",
    "    return tape.gradient(loss_value, [W,b])\n",
    "    ##############################################\n",
    "\n",
    "# optimizer : SGD\n",
    "optimizer = tf.keras.optimizers.SGD(learning_rate=0.01) ###################\n",
    "EPOCHS = 1001\n",
    "\n",
    "for step in range(EPOCHS):\n",
    "    for features, labels  in iter(dataset):\n",
    "        grads = grad(features, labels)\n",
    "        optimizer.apply_gradients(grads_and_vars=zip(grads,[W,b])) ##########################\n",
    "        if step % 100 == 0:\n",
    "            print(\"Iter: {}, Loss: {:.4f}\".format(step, loss_fn(features,labels)))\n",
    "            \n",
    "# accuracy 구하는 함수\n",
    "def accuracy_fn(hypothesis, labels):\n",
    "    predicted = tf.cast(hypothesis > 0.5, dtype=tf.float32)  ############\n",
    "    accuracy = tf.reduce_mean(tf.cast(tf.equal(predicted, labels), dtype=tf.int32))\n",
    "    return accuracy            \n",
    "\n",
    "# 학습 완료 후 accuracy를 구하시오\n",
    "test_acc = accuracy_fn(logistic_regression(x_test),y_test)\n",
    "print(\"Testset Accuracy: {:.4f}\".format(test_acc))"
   ]
  },
  {
   "cell_type": "code",
   "execution_count": 90,
   "metadata": {},
   "outputs": [
    {
     "data": {
      "text/plain": [
       "[<matplotlib.lines.Line2D at 0x1b8a0e835c8>]"
      ]
     },
     "execution_count": 90,
     "metadata": {},
     "output_type": "execute_result"
    },
    {
     "data": {
      "image/png": "[encoded data removed]",
      "text/plain": [
       "<Figure size 432x288 with 1 Axes>"
      ]
     },
     "metadata": {
      "needs_background": "light"
     },
     "output_type": "display_data"
    }
   ],
   "source": [
    "plt.plot(w, c)"
   ]
  }
 ],
 "metadata": {
  "kernelspec": {
   "display_name": "Python 3",
   "language": "python",
   "name": "python3"
  },
  "language_info": {
   "codemirror_mode": {
    "name": "ipython",
    "version": 3
   },
   "file_extension": ".py",
   "mimetype": "text/x-python",
   "name": "python",
   "nbconvert_exporter": "python",
   "pygments_lexer": "ipython3",
   "version": "3.7.7"
  },
  "toc": {
   "base_numbering": 1,
   "nav_menu": {},
   "number_sections": true,
   "sideBar": true,
   "skip_h1_title": false,
   "title_cell": "Table of Contents",
   "title_sidebar": "Contents",
   "toc_cell": false,
   "toc_position": {
    "height": "calc(100% - 180px)",
    "left": "10px",
    "top": "150px",
    "width": "165px"
   },
   "toc_section_display": true,
   "toc_window_display": true
  },
  "varInspector": {
   "cols": {
    "lenName": 16,
    "lenType": 16,
    "lenVar": 40
   },
   "kernels_config": {
    "python": {
     "delete_cmd_postfix": "",
     "delete_cmd_prefix": "del ",
     "library": "var_list.py",
     "varRefreshCmd": "print(var_dic_list())"
    },
    "r": {
     "delete_cmd_postfix": ") ",
     "delete_cmd_prefix": "rm(",
     "library": "var_list.r",
     "varRefreshCmd": "cat(var_dic_list()) "
    }
   },
   "types_to_exclude": [
    "module",
    "function",
    "builtin_function_or_method",
    "instance",
    "_Feature"
   ],
   "window_display": false
  }
 },
 "nbformat": 4,
 "nbformat_minor": 4
}
