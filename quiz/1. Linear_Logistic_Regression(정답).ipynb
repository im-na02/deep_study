{
 "cells": [
  {
   "cell_type": "markdown",
   "metadata": {},
   "source": [
    "# lab02 simple linear regression"
   ]
  },
  {
   "cell_type": "markdown",
   "metadata": {},
   "source": [
    "## 아래의 독립변수와 종속변수 데이터로 linear hypothesis를 만드시오\n",
    "hypothesis"
   ]
  },
  {
   "cell_type": "code",
   "execution_count": 30,
   "metadata": {},
   "outputs": [
    {
     "name": "stdout",
     "output_type": "stream",
     "text": [
      "<tf.Variable 'Variable:0' shape=() dtype=float32, numpy=2.1>\n",
      "<tf.Variable 'Variable:0' shape=() dtype=float32, numpy=2.5>\n"
     ]
    },
    {
     "data": {
      "text/plain": [
       "<tf.Tensor: id=1386, shape=(5,), dtype=float32, numpy=\n",
       "array([ 4.6     ,  6.7     ,  8.799999, 10.9     , 13.      ],\n",
       "      dtype=float32)>"
      ]
     },
     "execution_count": 30,
     "metadata": {},
     "output_type": "execute_result"
    }
   ],
   "source": [
    "import tensorflow as tf\n",
    "\n",
    "# data\n",
    "x_data = [1,2,3,4,5]\n",
    "y_data = [1,2,3,4,5]\n",
    "\n",
    "# weight 2.1\n",
    "##############################\n",
    "W = tf.Variable(2.1)\n",
    "##############################\n",
    "print(W)\n",
    "\n",
    "\n",
    "# bias 2.5\n",
    "##############################\n",
    "b = tf.Variable(2.5)\n",
    "##############################\n",
    "print(b)\n",
    "\n",
    "# hypothesis\n",
    "##############################\n",
    "hypothesis = W * x_data + b\n",
    "##############################\n",
    "hypothesis"
   ]
  },
  {
   "cell_type": "code",
   "execution_count": null,
   "metadata": {},
   "outputs": [],
   "source": []
  },
  {
   "cell_type": "code",
   "execution_count": null,
   "metadata": {},
   "outputs": [],
   "source": []
  },
  {
   "cell_type": "code",
   "execution_count": null,
   "metadata": {},
   "outputs": [],
   "source": []
  },
  {
   "cell_type": "code",
   "execution_count": null,
   "metadata": {},
   "outputs": [],
   "source": []
  },
  {
   "cell_type": "code",
   "execution_count": null,
   "metadata": {},
   "outputs": [],
   "source": []
  },
  {
   "cell_type": "code",
   "execution_count": null,
   "metadata": {},
   "outputs": [],
   "source": []
  },
  {
   "cell_type": "code",
   "execution_count": null,
   "metadata": {},
   "outputs": [],
   "source": []
  },
  {
   "cell_type": "code",
   "execution_count": null,
   "metadata": {},
   "outputs": [],
   "source": []
  },
  {
   "cell_type": "code",
   "execution_count": null,
   "metadata": {},
   "outputs": [],
   "source": []
  },
  {
   "cell_type": "markdown",
   "metadata": {},
   "source": [
    "## linear regression의 cost 함수를 만드시오\n",
    "cost"
   ]
  },
  {
   "cell_type": "code",
   "execution_count": 31,
   "metadata": {},
   "outputs": [
    {
     "data": {
      "text/plain": [
       "<tf.Tensor: id=1393, shape=(), dtype=float32, numpy=36.059998>"
      ]
     },
     "execution_count": 31,
     "metadata": {},
     "output_type": "execute_result"
    }
   ],
   "source": [
    "import tensorflow as tf\n",
    "\n",
    "# cost\n",
    "##############################\n",
    "cost = tf.reduce_mean(tf.square(hypothesis - y_data))\n",
    "##############################\n",
    "cost"
   ]
  },
  {
   "cell_type": "code",
   "execution_count": null,
   "metadata": {},
   "outputs": [],
   "source": []
  },
  {
   "cell_type": "code",
   "execution_count": null,
   "metadata": {},
   "outputs": [],
   "source": []
  },
  {
   "cell_type": "code",
   "execution_count": null,
   "metadata": {},
   "outputs": [],
   "source": []
  },
  {
   "cell_type": "code",
   "execution_count": null,
   "metadata": {},
   "outputs": [],
   "source": []
  },
  {
   "cell_type": "code",
   "execution_count": null,
   "metadata": {},
   "outputs": [],
   "source": []
  },
  {
   "cell_type": "code",
   "execution_count": null,
   "metadata": {},
   "outputs": [],
   "source": []
  },
  {
   "cell_type": "code",
   "execution_count": null,
   "metadata": {},
   "outputs": [],
   "source": []
  },
  {
   "cell_type": "markdown",
   "metadata": {},
   "source": [
    "## gradient descent 1 epoch를 실행하시오\n",
    "현재 기울기, gradient descent 1 epoch 실행후 기울기"
   ]
  },
  {
   "cell_type": "code",
   "execution_count": 32,
   "metadata": {},
   "outputs": [
    {
     "name": "stdout",
     "output_type": "stream",
     "text": [
      "39.199997 11.599999\n",
      "1.708 2.384\n"
     ]
    }
   ],
   "source": [
    "tf.random.set_seed(7)\n",
    "x_data = [1,2,3,4,5]\n",
    "y_data = [1,2,3,4,5]\n",
    "W = tf.Variable(2.1)\n",
    "b = tf.Variable(2.5)\n",
    "\n",
    "# learning rate 0.01\n",
    "learning_rate = 0.01\n",
    "\n",
    "# gradient descent 1 epoch\n",
    "## GradientTape\n",
    "##############################\n",
    "with tf.GradientTape() as tape :\n",
    "    hypothesis = W * x_data + b\n",
    "    cost = tf.reduce_mean(tf.square(hypothesis - y_data))\n",
    "##############################\n",
    "\n",
    "## print current gradient\n",
    "##############################\n",
    "W_grad, b_grad = tape.gradient(cost, [W, b])\n",
    "print(W_grad.numpy(), b_grad.numpy())\n",
    "##############################\n",
    "\n",
    "\n",
    "## update gradient\n",
    "##############################\n",
    "W.assign_sub(learning_rate * W_grad)\n",
    "b.assign_sub(learning_rate * b_grad)\n",
    "##############################\n",
    "\n",
    "\n",
    "## print updated gradient\n",
    "##############################\n",
    "print(W.numpy(), b.numpy())\n",
    "##############################"
   ]
  },
  {
   "cell_type": "code",
   "execution_count": null,
   "metadata": {},
   "outputs": [],
   "source": []
  },
  {
   "cell_type": "code",
   "execution_count": null,
   "metadata": {},
   "outputs": [],
   "source": []
  },
  {
   "cell_type": "code",
   "execution_count": null,
   "metadata": {},
   "outputs": [],
   "source": []
  },
  {
   "cell_type": "code",
   "execution_count": null,
   "metadata": {},
   "outputs": [],
   "source": []
  },
  {
   "cell_type": "code",
   "execution_count": null,
   "metadata": {},
   "outputs": [],
   "source": []
  },
  {
   "cell_type": "code",
   "execution_count": null,
   "metadata": {},
   "outputs": [],
   "source": []
  },
  {
   "cell_type": "code",
   "execution_count": null,
   "metadata": {},
   "outputs": [],
   "source": []
  },
  {
   "cell_type": "markdown",
   "metadata": {},
   "source": [
    "## tf.GradientTape()로 y = x ^ 2에서 x = 3일 때의 기울기를 구하시오\n",
    "기울기"
   ]
  },
  {
   "cell_type": "code",
   "execution_count": null,
   "metadata": {},
   "outputs": [],
   "source": [
    "# 상수 x\n",
    "x = tf.constant(3.0)\n",
    "\n",
    "# GradientTape()\n",
    "#######################################\n",
    "with tf.GradientTape() as g :\n",
    "    g.watch(x)\n",
    "    y = x*x\n",
    "#######################################\n",
    "\n",
    "# x = 3일 때 gradient 출력\n",
    "#######################################\n",
    "dy_dx = g.gradient(y,x)\n",
    "dy_dx\n",
    "#######################################"
   ]
  },
  {
   "cell_type": "code",
   "execution_count": null,
   "metadata": {},
   "outputs": [],
   "source": []
  },
  {
   "cell_type": "code",
   "execution_count": null,
   "metadata": {},
   "outputs": [],
   "source": []
  },
  {
   "cell_type": "code",
   "execution_count": null,
   "metadata": {},
   "outputs": [],
   "source": []
  },
  {
   "cell_type": "code",
   "execution_count": null,
   "metadata": {},
   "outputs": [],
   "source": []
  },
  {
   "cell_type": "code",
   "execution_count": null,
   "metadata": {},
   "outputs": [],
   "source": []
  },
  {
   "cell_type": "code",
   "execution_count": null,
   "metadata": {},
   "outputs": [],
   "source": []
  },
  {
   "cell_type": "markdown",
   "metadata": {},
   "source": [
    "## gradient descent alorithm으로 파라미터를 101번 업데이트 하시오\n",
    "100번째 업데이트 후의 W, b 값과 cost 값 출력"
   ]
  },
  {
   "cell_type": "code",
   "execution_count": 34,
   "metadata": {},
   "outputs": [
    {
     "name": "stdout",
     "output_type": "stream",
     "text": [
      "    0|     1.708|     2.384| 36.059998\n",
      "   10|    0.5413|     1.988|  0.866565\n",
      "   20|    0.4798|     1.901|  0.661519\n",
      "   30|    0.4919|     1.836|  0.617526\n",
      "   40|    0.5085|     1.775|  0.577081\n",
      "   50|    0.5248|     1.715|  0.539287\n",
      "   60|    0.5407|     1.658|  0.503969\n",
      "   70|     0.556|     1.603|  0.470964\n",
      "   80|    0.5707|      1.55|  0.440120\n",
      "   90|     0.585|     1.498|  0.411296\n",
      "  100|    0.5989|     1.448|  0.384360\n"
     ]
    }
   ],
   "source": [
    "W = tf.Variable(2.1)\n",
    "b = tf.Variable(2.5)\n",
    "\n",
    "# learning rate 0.01\n",
    "learning_rate = 0.01\n",
    "\n",
    "# 반복\n",
    "for i in range(100+1):\n",
    "    # GradientTape\n",
    "    #######################################\n",
    "    with tf.GradientTape() as tape :\n",
    "        hypothesis = W * x_data + b\n",
    "        cost = tf.reduce_mean(tf.square(hypothesis - y_data))\n",
    "    #######################################\n",
    "    \n",
    "    # 현재 기울기\n",
    "    #######################################\n",
    "    W_grad, b_grad = tape.gradient(cost, [W, b])\n",
    "    #######################################\n",
    "    \n",
    "    # 업데이트 후 기울기\n",
    "    #######################################\n",
    "    W.assign_sub(learning_rate * W_grad)\n",
    "    b.assign_sub(learning_rate * b_grad)\n",
    "    #######################################\n",
    "    \n",
    "    # 100번 업데이트 후 W, b, cost 출력\n",
    "    #######################################\n",
    "    if i % 10 == 0 :\n",
    "        print(f'{i:5}|{W.numpy():10.4}|{b.numpy():10.4}|{cost:10.6f}')\n",
    "    #######################################"
   ]
  },
  {
   "cell_type": "code",
   "execution_count": null,
   "metadata": {},
   "outputs": [],
   "source": []
  },
  {
   "cell_type": "code",
   "execution_count": null,
   "metadata": {},
   "outputs": [],
   "source": []
  },
  {
   "cell_type": "code",
   "execution_count": null,
   "metadata": {},
   "outputs": [],
   "source": []
  },
  {
   "cell_type": "code",
   "execution_count": null,
   "metadata": {},
   "outputs": [],
   "source": []
  },
  {
   "cell_type": "code",
   "execution_count": null,
   "metadata": {},
   "outputs": [],
   "source": []
  },
  {
   "cell_type": "code",
   "execution_count": null,
   "metadata": {},
   "outputs": [],
   "source": []
  },
  {
   "cell_type": "code",
   "execution_count": null,
   "metadata": {},
   "outputs": [],
   "source": []
  },
  {
   "cell_type": "markdown",
   "metadata": {},
   "source": [
    "# lab03 how to minimize cost"
   ]
  },
  {
   "cell_type": "markdown",
   "metadata": {},
   "source": [
    "## cost function을 tensorflow 사용하지 않고 짜기(numpy 가능)\n",
    "hypothesis는 H(X) = W * X라고 가정하고, 아래 제시한 weight에 대해서 cost function의 값을 출력하시오"
   ]
  },
  {
   "cell_type": "code",
   "execution_count": null,
   "metadata": {},
   "outputs": [],
   "source": [
    "import numpy as np\n",
    "\n",
    "X = np.array([1,2,3])\n",
    "Y = np.array([1,2,3])\n",
    "\n",
    "# cost funtion 정의\n",
    "def cost_func(W, X, Y) :\n",
    "    #######################################\n",
    "    hypothesis = W * X\n",
    "    c = sum((hypothesis - Y) ** 2)\n",
    "    c /= len(X)\n",
    "    return c\n",
    "    #######################################\n",
    "\n",
    "# 아래 제시한 w값에 대해 cost function 값 출력\n",
    "for feed_W in np.linspace(-3, 5, num = 15) :\n",
    "    #######################################\n",
    "    print(f'W : {feed_W:5.2f} | cost : {cost_func(feed_W, X, Y):5.2f}')\n",
    "    #######################################"
   ]
  },
  {
   "cell_type": "code",
   "execution_count": null,
   "metadata": {},
   "outputs": [],
   "source": []
  },
  {
   "cell_type": "code",
   "execution_count": null,
   "metadata": {},
   "outputs": [],
   "source": []
  },
  {
   "cell_type": "code",
   "execution_count": null,
   "metadata": {},
   "outputs": [],
   "source": []
  },
  {
   "cell_type": "code",
   "execution_count": null,
   "metadata": {},
   "outputs": [],
   "source": []
  },
  {
   "cell_type": "code",
   "execution_count": null,
   "metadata": {},
   "outputs": [],
   "source": []
  },
  {
   "cell_type": "code",
   "execution_count": null,
   "metadata": {},
   "outputs": [],
   "source": []
  },
  {
   "cell_type": "code",
   "execution_count": null,
   "metadata": {},
   "outputs": [],
   "source": []
  },
  {
   "cell_type": "code",
   "execution_count": null,
   "metadata": {},
   "outputs": [],
   "source": []
  },
  {
   "cell_type": "code",
   "execution_count": null,
   "metadata": {},
   "outputs": [],
   "source": []
  },
  {
   "cell_type": "markdown",
   "metadata": {},
   "source": [
    "## cost function을 tensorflow로 짜기\n",
    "hypothesis는 H(X) = W * X라고 가정하고, 아래 제시한 weight에 대해서 cost function의 값을 출력하시오"
   ]
  },
  {
   "cell_type": "code",
   "execution_count": null,
   "metadata": {},
   "outputs": [],
   "source": [
    "import tensorflow as tf\n",
    "\n",
    "X = np.array([1,2,3])\n",
    "Y = np.array([1,2,3])\n",
    "\n",
    "# cost function 정의(tensorflow 사용)\n",
    "def cost_func(W, X, Y) :\n",
    "    #######################################\n",
    "    hypothesis = W * X\n",
    "    return tf.reduce_mean(tf.square(hypothesis - Y))\n",
    "    #######################################\n",
    "    \n",
    "W_values = np.linspace(-3, 5, num=15)\n",
    "\n",
    "for feed_W in W_values :\n",
    "    print(f'W : {feed_W:5.2f} | cost : {cost_func(feed_W, X, Y):5.2f}')"
   ]
  },
  {
   "cell_type": "code",
   "execution_count": null,
   "metadata": {},
   "outputs": [],
   "source": []
  },
  {
   "cell_type": "code",
   "execution_count": null,
   "metadata": {},
   "outputs": [],
   "source": []
  },
  {
   "cell_type": "code",
   "execution_count": null,
   "metadata": {},
   "outputs": [],
   "source": []
  },
  {
   "attachments": {
    "image.png": {
     "image/png": "[encoded data removed]"
    }
   },
   "cell_type": "markdown",
   "metadata": {},
   "source": [
    "## cost function이 아래와 같을 때 GradientTape 없이(그외 tensorflow code 사용가능) gradient descent를 구현하시오\n",
    "![image.png](attachment:image.png)\n",
    "매 10회마다 w, cost 출력"
   ]
  },
  {
   "cell_type": "code",
   "execution_count": null,
   "metadata": {},
   "outputs": [],
   "source": [
    "tf.random.set_seed(0)\n",
    "\n",
    "X = np.array([1,2,3])\n",
    "Y = np.array([1,2,3])\n",
    "\n",
    "W = tf.Variable(tf.random.normal([1], -100., 100.))\n",
    "\n",
    "# 300회 gradient descent(update)\n",
    "for i in range(300) :\n",
    "    \n",
    "    hypothesis = W * X\n",
    "    cost = tf.reduce_mean(tf.square(hypothesis - Y))\n",
    "    \n",
    "    # 현재 gradient\n",
    "    #######################################\n",
    "    learning_rate = 0.01\n",
    "    gradient = tf.reduce_mean((W * X - Y) * X )\n",
    "    #######################################\n",
    "    \n",
    "    # gradient update\n",
    "    #######################################\n",
    "    descent = W - learning_rate * gradient\n",
    "    W.assign(descent)\n",
    "    #######################################\n",
    "    \n",
    "    # 매 10회마다 출력\n",
    "    if i % 10 == 0 :\n",
    "        print(f'i : {i:5} | W : {W.numpy()[0]:5.2f} | cost : {cost:5.2f}')"
   ]
  },
  {
   "attachments": {
    "image.png": {
     "image/png": "[encoded data removed]"
    }
   },
   "cell_type": "markdown",
   "metadata": {},
   "source": [
    "![image.png](attachment:image.png)\n",
    "엄밀히 말해서는 cost function 분모에 2를 곱해야하지만.."
   ]
  },
  {
   "cell_type": "code",
   "execution_count": null,
   "metadata": {},
   "outputs": [],
   "source": []
  },
  {
   "cell_type": "code",
   "execution_count": null,
   "metadata": {},
   "outputs": [],
   "source": []
  },
  {
   "cell_type": "code",
   "execution_count": null,
   "metadata": {},
   "outputs": [],
   "source": []
  },
  {
   "cell_type": "code",
   "execution_count": null,
   "metadata": {},
   "outputs": [],
   "source": []
  },
  {
   "cell_type": "code",
   "execution_count": null,
   "metadata": {},
   "outputs": [],
   "source": []
  },
  {
   "cell_type": "code",
   "execution_count": null,
   "metadata": {},
   "outputs": [],
   "source": []
  },
  {
   "cell_type": "code",
   "execution_count": null,
   "metadata": {},
   "outputs": [],
   "source": []
  },
  {
   "cell_type": "code",
   "execution_count": null,
   "metadata": {},
   "outputs": [],
   "source": []
  },
  {
   "cell_type": "code",
   "execution_count": null,
   "metadata": {},
   "outputs": [],
   "source": []
  },
  {
   "cell_type": "code",
   "execution_count": null,
   "metadata": {},
   "outputs": [],
   "source": []
  },
  {
   "cell_type": "markdown",
   "metadata": {},
   "source": [
    "# lab04 multi-variable linear regression(matrix!!!!!!!!!!!!!)"
   ]
  },
  {
   "cell_type": "markdown",
   "metadata": {},
   "source": [
    "## 아래와 같이 데이터가 주어졌을 때 tensorflow의 matrix 연산으로 hypothesis와 cost function을 계산하는 식을 완전하라."
   ]
  },
  {
   "cell_type": "code",
   "execution_count": null,
   "metadata": {},
   "outputs": [],
   "source": [
    "tf.random.set_seed(0)\n",
    "\n",
    "data = np.array([\n",
    "    [73, 80, 75, 152],\n",
    "    [93, 88, 93, 185],\n",
    "    [89, 91, 90, 180],\n",
    "    [96, 98, 100, 196],\n",
    "    [73, 66, 70, 142]],\n",
    "    dtype = np.float32)\n",
    "\n",
    "X = data[:, :-1]\n",
    "Y = data[:, [-1]]\n",
    "\n",
    "# W, b 에 tensorflow 변수 객체 할당\n",
    "#######################################\n",
    "W = tf.Variable(tf.random.normal([3, 1]))\n",
    "b = tf.Variable(tf.random.normal([1]))\n",
    "#######################################\n",
    "\n",
    "n_epochs = 2000\n",
    "for i in range(n_epochs+1) :\n",
    "    with tf.GradientTape() as tape :\n",
    "        # hypothesis, cost\n",
    "        ##################################### 채우시오\n",
    "        hypothesis = tf.matmul(X, W) + b ################## shape이 (5,3) (3,1) 이어도 단순 * 은 안됨\n",
    "        cost = tf.reduce_mean(tf.square(hypothesis - Y))\n",
    "        #####################################\n",
    "        \n",
    "    W_grad, b_grad = tape.gradient(cost, [W,b])\n",
    "    \n",
    "    learning_rate = 0.00001\n",
    "    W.assign_sub(learning_rate * W_grad)\n",
    "    b.assign_sub(learning_rate * b_grad)\n",
    "    \n",
    "    if i % 200 == 0 :\n",
    "        print(f'i : {i} | cost : {cost.numpy()}')"
   ]
  },
  {
   "cell_type": "markdown",
   "metadata": {},
   "source": [
    "# lab 05 logistic regression"
   ]
  },
  {
   "cell_type": "markdown",
   "metadata": {},
   "source": [
    "## logictic regression 구현에서 빈칸을 채우세요..^^;"
   ]
  },
  {
   "cell_type": "code",
   "execution_count": 37,
   "metadata": {},
   "outputs": [
    {
     "name": "stdout",
     "output_type": "stream",
     "text": [
      "<tf.Variable 'weight:0' shape=(2, 1) dtype=float32, numpy=\n",
      "array([[0.],\n",
      "       [0.]], dtype=float32)>\n",
      "Iter: 0, Loss: 0.6874\n",
      "Iter: 100, Loss: 0.5776\n",
      "Iter: 200, Loss: 0.5349\n",
      "Iter: 300, Loss: 0.5054\n",
      "Iter: 400, Loss: 0.4838\n",
      "Iter: 500, Loss: 0.4671\n",
      "Iter: 600, Loss: 0.4535\n",
      "Iter: 700, Loss: 0.4420\n",
      "Iter: 800, Loss: 0.4319\n",
      "Iter: 900, Loss: 0.4228\n",
      "Iter: 1000, Loss: 0.4144\n",
      "Testset Accuracy: 1.0000\n"
     ]
    }
   ],
   "source": [
    "# seed 설정\n",
    "tf.random.set_seed(0)\n",
    "\n",
    "# 훈련/테스트 데이터\n",
    "x_train = [[1., 2.],\n",
    "          [2., 3.],\n",
    "          [3., 1.],\n",
    "          [4., 3.],\n",
    "          [5., 3.],\n",
    "          [6., 2.]]\n",
    "y_train = [[0.],\n",
    "          [0.],\n",
    "          [0.],\n",
    "          [1.],\n",
    "          [1.],\n",
    "          [1.]]\n",
    "\n",
    "x_test = [[5.,2.]]\n",
    "y_test = [[1.]]\n",
    "\n",
    "# batch size(한번에 학습시킬 양) 설정\n",
    "dataset = tf.data.Dataset.from_tensor_slices((x_train, y_train)).batch(len(x_train))\n",
    "\n",
    "# tensorflow Variable 설정\n",
    "W = tf.Variable(tf.zeros([2,1]), name='weight')\n",
    "b = tf.Variable(tf.zeros([1]), name='bias')\n",
    "\n",
    "# 가설 설정 함수\n",
    "def logistic_regression(features):\n",
    "    ##############################################\n",
    "    hypothesis  = tf.divide(1., 1. + tf.exp(tf.matmul(features, W) + b))\n",
    "    ##############################################\n",
    "    return hypothesis\n",
    "\n",
    "# cost/loss function 함수\n",
    "def loss_fn(features, labels):\n",
    "    ##############################################\n",
    "    cost = -tf.reduce_mean(labels * tf.math.log(logistic_regression(features)) + (1 - labels) * tf.math.log(1 - logistic_regression(features)))\n",
    "    ##############################################\n",
    "    return cost\n",
    "\n",
    "# cost function에서 gradient 구하는 함수\n",
    "def grad(features, labels):\n",
    "    with tf.GradientTape() as tape:\n",
    "        loss_value = loss_fn(features,labels)\n",
    "    ##############################################\n",
    "    return tape.gradient(loss_value, [W,b])\n",
    "    ##############################################\n",
    "\n",
    "# optimizer : SGD\n",
    "optimizer = tf.keras.optimizers.SGD(learning_rate=0.01) ###################\n",
    "EPOCHS = 1001\n",
    "\n",
    "for step in range(EPOCHS):\n",
    "    for features, labels  in iter(dataset):\n",
    "        grads = grad(features, labels)\n",
    "        optimizer.apply_gradients(grads_and_vars=zip(grads,[W,b])) ##########################\n",
    "        if step % 100 == 0:\n",
    "            print(\"Iter: {}, Loss: {:.4f}\".format(step, loss_fn(features,labels)))\n",
    "            \n",
    "# accuracy 구하는 함수\n",
    "def accuracy_fn(hypothesis, labels):\n",
    "    predicted = tf.cast(hypothesis > 0.5, dtype=tf.float32)  ############\n",
    "    accuracy = tf.reduce_mean(tf.cast(tf.equal(predicted, labels), dtype=tf.int32))\n",
    "    return accuracy            \n",
    "\n",
    "# 학습 완료 후 accuracy를 구하시오\n",
    "test_acc = accuracy_fn(logistic_regression(x_test),y_test)\n",
    "print(\"Testset Accuracy: {:.4f}\".format(test_acc))"
   ]
  }
 ],
 "metadata": {
  "kernelspec": {
   "display_name": "Python 3",
   "language": "python",
   "name": "python3"
  },
  "language_info": {
   "codemirror_mode": {
    "name": "ipython",
    "version": 3
   },
   "file_extension": ".py",
   "mimetype": "text/x-python",
   "name": "python",
   "nbconvert_exporter": "python",
   "pygments_lexer": "ipython3",
   "version": "3.7.7"
  },
  "toc": {
   "base_numbering": 1,
   "nav_menu": {},
   "number_sections": true,
   "sideBar": true,
   "skip_h1_title": false,
   "title_cell": "Table of Contents",
   "title_sidebar": "Contents",
   "toc_cell": false,
   "toc_position": {},
   "toc_section_display": true,
   "toc_window_display": true
  },
  "varInspector": {
   "cols": {
    "lenName": 16,
    "lenType": 16,
    "lenVar": 40
   },
   "kernels_config": {
    "python": {
     "delete_cmd_postfix": "",
     "delete_cmd_prefix": "del ",
     "library": "var_list.py",
     "varRefreshCmd": "print(var_dic_list())"
    },
    "r": {
     "delete_cmd_postfix": ") ",
     "delete_cmd_prefix": "rm(",
     "library": "var_list.r",
     "varRefreshCmd": "cat(var_dic_list()) "
    }
   },
   "types_to_exclude": [
    "module",
    "function",
    "builtin_function_or_method",
    "instance",
    "_Feature"
   ],
   "window_display": false
  }
 },
 "nbformat": 4,
 "nbformat_minor": 4
}
