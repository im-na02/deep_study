{
 "cells": [
  {
   "cell_type": "markdown",
   "metadata": {},
   "source": [
    "# 20200611 Lab06: SOFTMAX Classification"
   ]
  },
  {
   "cell_type": "code",
   "execution_count": 1,
   "metadata": {},
   "outputs": [],
   "source": [
    "import tensorflow as tf\n",
    "import numpy as np"
   ]
  },
  {
   "cell_type": "markdown",
   "metadata": {},
   "source": [
    "## Create Dataset"
   ]
  },
  {
   "cell_type": "code",
   "execution_count": 12,
   "metadata": {},
   "outputs": [],
   "source": [
    "x_data = [[1, 2, 1, 1],\n",
    "          [2, 1, 3, 2],\n",
    "          [3, 1, 3, 4],\n",
    "          [4, 1, 5, 5],\n",
    "          [1, 7, 5, 5],\n",
    "          [1, 2, 5, 6],\n",
    "          [1, 6, 6, 6],\n",
    "          [1, 7, 7, 7]]\n",
    "y_data = [[0, 0, 1],\n",
    "          [0, 0, 1],\n",
    "          [0, 0, 1],\n",
    "          [0, 1, 0],\n",
    "          [0, 1, 0],\n",
    "          [0, 1, 0],\n",
    "          [1, 0, 0],\n",
    "          [1, 0, 0]]"
   ]
  },
  {
   "cell_type": "markdown",
   "metadata": {},
   "source": [
    "### 문제 1: 'Softmax Classification' 단계별로 이해하기\n",
    "\n",
    "- 각 단계별로 존재하는 '???'을 채워주세요!\n",
    "- '???'의 개수에 상관없이, 분류 모델이 제대로 작동할 수 있도록 셀(cell)을 작성해도 좋습니다.\n",
    "- 단계별로 존재하는 주석을 참조하시면 문제 풀이에 도움이 될 수 있습니다.\n",
    "- 텐서플로우의 모든 메소드를 암기하는 것이 꼭 필요한지도 모르겠고, 아직 불가능하다고 생각합니다. 다만 식이 전개되는 과정과, 어떤 변수가 어떤 스텝에서 어디에 할당되는지에 초점을 맞추고 문제를 풀어주시면 좋을 것 같습니다."
   ]
  },
  {
   "cell_type": "code",
   "execution_count": 13,
   "metadata": {},
   "outputs": [
    {
     "name": "stdout",
     "output_type": "stream",
     "text": [
      "(8, 4)\n",
      "(8, 3)\n"
     ]
    }
   ],
   "source": [
    "# convert into numpy and float format\n",
    "x_data = np.array(x_data, dtype=np.float32)\n",
    "y_data = np.array(y_data, dtype=np.float32)\n",
    "\n",
    "nb_classes = 3 # num classes\n",
    "\n",
    "print(x_data.shape)\n",
    "print(y_data.shape)"
   ]
  },
  {
   "cell_type": "markdown",
   "metadata": {},
   "source": [
    "## Weight and Bias"
   ]
  },
  {
   "cell_type": "code",
   "execution_count": 14,
   "metadata": {},
   "outputs": [
    {
     "name": "stdout",
     "output_type": "stream",
     "text": [
      "<tf.Variable 'weight:0' shape=(4, 3) dtype=float32, numpy=\n",
      "array([[ 0.1685581 ,  1.1552725 , -0.01943078],\n",
      "       [ 0.48602352, -2.2948468 , -0.5894232 ],\n",
      "       [ 1.4911681 , -0.8932331 ,  0.21835703],\n",
      "       [ 0.81618196,  0.9535582 ,  0.36904445]], dtype=float32)> <tf.Variable 'bias:0' shape=(3,) dtype=float32, numpy=array([-0.6501424 , -1.7318914 , -0.01782191], dtype=float32)>\n"
     ]
    }
   ],
   "source": [
    "W = tf.Variable(tf.random.normal((4, nb_classes)), name = 'weight')\n",
    "b = tf.Variable(tf.random.normal((nb_classes, )), name = 'bias')\n",
    "variables = [W, b]\n",
    "\n",
    "print(W, b)"
   ]
  },
  {
   "cell_type": "markdown",
   "metadata": {},
   "source": [
    "## Softmax Regression"
   ]
  },
  {
   "cell_type": "code",
   "execution_count": 15,
   "metadata": {},
   "outputs": [
    {
     "name": "stdout",
     "output_type": "stream",
     "text": [
      "tf.Tensor(\n",
      "[[9.6817654e-01 3.5758381e-04 3.1465892e-02]\n",
      " [9.9590236e-01 1.5505216e-04 3.9425828e-03]\n",
      " [9.9811256e-01 5.4864236e-04 1.3388224e-03]\n",
      " [9.9992990e-01 1.4361542e-05 5.5735421e-05]\n",
      " [9.9999988e-01 4.2204423e-14 1.5442789e-07]\n",
      " [9.9997866e-01 5.2916768e-08 2.1371246e-05]\n",
      " [9.9999988e-01 7.1978610e-14 8.1062844e-08]\n",
      " [1.0000000e+00 4.7164812e-16 4.9521898e-09]], shape=(8, 3), dtype=float32)\n"
     ]
    }
   ],
   "source": [
    "# tf.nn.softmax computes softmax activations\n",
    "\n",
    "def hypothesis(X):\n",
    "    return tf.nn.softmax(tf.matmul(X, W) + b) # 출제\n",
    "\n",
    "print(hypothesis(x_data))"
   ]
  },
  {
   "cell_type": "markdown",
   "metadata": {},
   "source": [
    "## Cost Function(Cross Entropy) & Gradient Descent"
   ]
  },
  {
   "cell_type": "code",
   "execution_count": 16,
   "metadata": {},
   "outputs": [
    {
     "name": "stdout",
     "output_type": "stream",
     "text": [
      "tf.Tensor(9.289062, shape=(), dtype=float32)\n"
     ]
    }
   ],
   "source": [
    "def cost_fn(X, Y):\n",
    "    logits = hypothesis(X) # 예측값을 담은 행벡터 logits 반환, 예측값은 0~1 사이\n",
    "    cost = tf.reduce_mean(-tf.reduce_sum(Y * tf.math.log(logits), axis=1)) #출제 \n",
    "    # 두 줄에 걸쳐서 적어도 괜찮습니다 # 여기서 Y값 = grounded_value, logits = predicted_value\n",
    "    return cost #출제\n",
    "\n",
    "print(cost_fn(x_data, y_data))"
   ]
  },
  {
   "cell_type": "code",
   "execution_count": 17,
   "metadata": {
    "scrolled": true
   },
   "outputs": [
    {
     "name": "stdout",
     "output_type": "stream",
     "text": [
      "[<tf.Tensor: id=7363, shape=(4, 3), dtype=float32, numpy=\n",
      "array([[ 1.4942521 , -0.7497036 , -0.7445485 ],\n",
      "       [ 1.7412816 , -1.2498208 , -0.49146083],\n",
      "       [ 2.7437205 , -1.8746824 , -0.86903787],\n",
      "       [ 2.8689938 , -1.9996332 , -0.8693606 ]], dtype=float32)>, <tf.Tensor: id=7362, shape=(3,), dtype=float32, numpy=array([ 0.7452625 , -0.37486553, -0.37039688], dtype=float32)>]\n"
     ]
    }
   ],
   "source": [
    "def grad_fn(X,Y): # 비용함수를 최적화하기 위해 Gradient Descent 방식을 사용합니다\n",
    "    with tf.GradientTape() as tape: #출제\n",
    "        loss = cost_fn(X,Y)\n",
    "        grads = tape.gradient(loss, variables) # 여기서 variables = [W, b]\n",
    "        return grads\n",
    "    \n",
    "print(grad_fn(x_data, y_data))"
   ]
  },
  {
   "cell_type": "markdown",
   "metadata": {},
   "source": [
    "## Train"
   ]
  },
  {
   "cell_type": "code",
   "execution_count": 18,
   "metadata": {},
   "outputs": [
    {
     "name": "stdout",
     "output_type": "stream",
     "text": [
      "Loss at epoch 1: 5.933627\n",
      "Loss at epoch 100: 0.643614\n",
      "Loss at epoch 200: 0.568983\n",
      "Loss at epoch 300: 0.513505\n",
      "Loss at epoch 400: 0.463772\n",
      "Loss at epoch 500: 0.416375\n",
      "Loss at epoch 600: 0.369937\n",
      "Loss at epoch 700: 0.323933\n",
      "Loss at epoch 800: 0.279038\n",
      "Loss at epoch 900: 0.242869\n",
      "Loss at epoch 1000: 0.228195\n",
      "Loss at epoch 1100: 0.217116\n",
      "Loss at epoch 1200: 0.207044\n",
      "Loss at epoch 1300: 0.197845\n",
      "Loss at epoch 1400: 0.189407\n",
      "Loss at epoch 1500: 0.181640\n",
      "Loss at epoch 1600: 0.174467\n",
      "Loss at epoch 1700: 0.167823\n",
      "Loss at epoch 1800: 0.161651\n",
      "Loss at epoch 1900: 0.155904\n",
      "Loss at epoch 2000: 0.150541\n"
     ]
    }
   ],
   "source": [
    "def fit(X, Y, epochs=2000, verbose=100):\n",
    "    optimizer = tf.keras.optimizers.SGD(learning_rate=0.1)\n",
    "    \n",
    "    for i in range(epochs): #출제\n",
    "        grads = grad_fn(X, Y) #출제\n",
    "        optimizer.apply_gradients(zip(grads, variables)) #출제\n",
    "        \n",
    "        if (i==0) | ((i+1)%verbose == 0): # 손실이 줄어드는 과정을 출력\n",
    "            print('Loss at epoch %d: %f' %(i+1, cost_fn(X,Y).numpy()))\n",
    "            \n",
    "fit(x_data, y_data)"
   ]
  },
  {
   "cell_type": "markdown",
   "metadata": {},
   "source": [
    "## Prediction Check"
   ]
  },
  {
   "cell_type": "code",
   "execution_count": 20,
   "metadata": {},
   "outputs": [
    {
     "name": "stdout",
     "output_type": "stream",
     "text": [
      "tf.Tensor([[0.00196636 0.07695978 0.9210738 ]], shape=(1, 3), dtype=float32)\n",
      "tf.Tensor([2], shape=(1,), dtype=int64)\n"
     ]
    }
   ],
   "source": [
    "# Prediction\n",
    "\n",
    "sample_data = [[2,1,3,2]]\n",
    "sample_data = np.array(sample_data, dtype=np.float32)\n",
    "\n",
    "a = hypothesis(sample_data)\n",
    "\n",
    "print(a)\n",
    "print(tf.argmax(a, 1))"
   ]
  },
  {
   "cell_type": "code",
   "execution_count": 21,
   "metadata": {
    "scrolled": true
   },
   "outputs": [
    {
     "name": "stdout",
     "output_type": "stream",
     "text": [
      "tf.Tensor(\n",
      "[[4.3319219e-06 1.3351535e-03 9.9866056e-01]\n",
      " [1.9663577e-03 7.6959759e-02 9.2107391e-01]\n",
      " [3.4999463e-08 1.5631154e-01 8.4368837e-01]\n",
      " [9.3102545e-07 8.5774279e-01 1.4225632e-01]\n",
      " [2.4870418e-01 7.3973882e-01 1.1557008e-02]\n",
      " [1.3076060e-01 8.6911672e-01 1.2264834e-04]\n",
      " [7.6162165e-01 2.3832038e-01 5.7982514e-05]\n",
      " [9.2007053e-01 7.9928361e-02 1.1167656e-06]], shape=(8, 3), dtype=float32)\n",
      "tf.Tensor([2 2 2 1 1 1 0 0], shape=(8,), dtype=int64)\n",
      "tf.Tensor([2 2 2 1 1 1 0 0], shape=(8,), dtype=int64)\n"
     ]
    }
   ],
   "source": [
    "b = hypothesis(x_data)\n",
    "\n",
    "print(b)\n",
    "print(tf.argmax(b,1)) # 예측값을 보여주세요\n",
    "print(tf.argmax(y_data, 1)) # 실제 값과 비교해보기"
   ]
  },
  {
   "cell_type": "markdown",
   "metadata": {},
   "source": [
    "## Convert as Class"
   ]
  },
  {
   "cell_type": "code",
   "execution_count": 43,
   "metadata": {},
   "outputs": [],
   "source": [
    "class softmax_classifier(tf.keras.Model):\n",
    "    def __init__(self, nb_classes):\n",
    "#         super(softmax_classifier, self).__init__() # 이해 x\n",
    "        self.W = tf.Variable(tf.random.normal((4, nb_classes)), name='weight')\n",
    "        self.b = tf.Variable(tf.random.normal((nb_classes, )), name='bias')\n",
    "        self._variables = [self.W, self.b]\n",
    "        \n",
    "    def softmax_regression(self, X):\n",
    "        return tf.nn.softmax(tf.matmul(X, self.W) + self.b)\n",
    "    \n",
    "    def cost_fn(self, X, Y):\n",
    "        logits = self.softmax_regression(X)\n",
    "        cost = tf.reduce_mean(-tf.reduce_sum(Y * tf.math.log(logits), axis=1))\n",
    "        return cost\n",
    "    \n",
    "    def grad_fn(self, X, Y):\n",
    "        with tf.GradientTape() as tape:\n",
    "            cost = self.cost_fn(X, Y)\n",
    "            grads = tape.gradient(cost, self._variables)\n",
    "            return grads\n",
    "        \n",
    "    def fit(self, X, Y, epochs=2000, verbose=500):\n",
    "        optimizer = tf.keras.optimizers.SGD(learning_rate = 0.1)\n",
    "        \n",
    "        for i in range(epochs):\n",
    "            grads = self.grad_fn(X, Y)\n",
    "            optimizer.apply_gradients(zip(grads, self._variables))\n",
    "            \n",
    "            if (i==0) | ((i+1)%verbose==0):\n",
    "                print('Loss at epoch %d: %f' %(i+1, self.cost_fn(X, Y).numpy()))\n",
    "    \n",
    "    # 예측 함수를 클래스 내부에 정의하는 경우\n",
    "    def prediction(self, X, Y):\n",
    "        pred = tf.argmax(self.softmax_regression(X), 1)\n",
    "        correct_pred = tf.equal(pred, tf.argmax(Y, 1))\n",
    "        accuracy = tf.reduce_mean(tf.cast(correct_pred, tf.float32))\n",
    "        return accuracy"
   ]
  },
  {
   "cell_type": "code",
   "execution_count": 44,
   "metadata": {},
   "outputs": [
    {
     "name": "stdout",
     "output_type": "stream",
     "text": [
      "Loss at epoch 1: 7.395423\n",
      "Loss at epoch 500: 0.407603\n",
      "Loss at epoch 1000: 0.231601\n",
      "Loss at epoch 1500: 0.183409\n",
      "Loss at epoch 2000: 0.151579\n"
     ]
    }
   ],
   "source": [
    "model = softmax_classifier(nb_classes=3)\n",
    "model.fit(x_data, y_data)"
   ]
  },
  {
   "cell_type": "markdown",
   "metadata": {},
   "source": [
    "### 위에서 학습한 모델을 바탕으로, 주어진 sample data의 범주를 예측하세요"
   ]
  },
  {
   "cell_type": "code",
   "execution_count": 45,
   "metadata": {},
   "outputs": [
    {
     "name": "stdout",
     "output_type": "stream",
     "text": [
      "tf.Tensor([[4.2244087e-16 3.5772047e-08 1.0000000e+00]], shape=(1, 3), dtype=float32)\n",
      "tf.Tensor([2], shape=(1,), dtype=int64)\n"
     ]
    }
   ],
   "source": [
    "sample_data_2 = [[3,6,1,1]]\n",
    "sample_data_2 = np.array(sample_data_2, dtype=np.float32)\n",
    "\n",
    "answer = model.softmax_regression(sample_data_2)\n",
    "\n",
    "print(answer)\n",
    "print(tf.argmax(answer,1))"
   ]
  },
  {
   "cell_type": "code",
   "execution_count": 47,
   "metadata": {},
   "outputs": [
    {
     "name": "stdout",
     "output_type": "stream",
     "text": [
      "tf.Tensor(1.0, shape=(), dtype=float32)\n"
     ]
    }
   ],
   "source": [
    "# 예측 함수를 클래스 내부에 정의한 경우\n",
    "\n",
    "print(model.prediction(x_data, y_data))"
   ]
  },
  {
   "cell_type": "markdown",
   "metadata": {},
   "source": [
    "## 문제3: 베르누이 분포에서의 Logistic Cost vs Cross Entropy"
   ]
  },
  {
   "attachments": {
    "%E1%84%89%E1%85%B3%E1%84%8F%E1%85%B3%E1%84%85%E1%85%B5%E1%86%AB%E1%84%89%E1%85%A3%E1%86%BA%202020-06-11%20%E1%84%8B%E1%85%A9%E1%84%8C%E1%85%A5%E1%86%AB%203.05.39.png": {
     "image/png": "[encoded data removed]"
    }
   },
   "cell_type": "markdown",
   "metadata": {},
   "source": [
    "![%E1%84%89%E1%85%B3%E1%84%8F%E1%85%B3%E1%84%85%E1%85%B5%E1%86%AB%E1%84%89%E1%85%A3%E1%86%BA%202020-06-11%20%E1%84%8B%E1%85%A9%E1%84%8C%E1%85%A5%E1%86%AB%203.05.39.png](attachment:%E1%84%89%E1%85%B3%E1%84%8F%E1%85%B3%E1%84%85%E1%85%B5%E1%86%AB%E1%84%89%E1%85%A3%E1%86%BA%202020-06-11%20%E1%84%8B%E1%85%A9%E1%84%8C%E1%85%A5%E1%86%AB%203.05.39.png)"
   ]
  },
  {
   "cell_type": "markdown",
   "metadata": {},
   "source": [
    "- 주어진 이미지에서 위의 식은 Logistic Cost, 아래의 식은 Cross Entropy를 정의하는 수식입니다.\n",
    "- 이번 강의에서 주어진 두 식은 본질적으로 동일하고, 왜 그런지는 직접 생각해보라고 하셨습니다.\n",
    "- 그래서 생각할 시간을 함께 갖고자 마지막 문제로 출제하였습니다.\n",
    "- 기계학습 10주차 강의에서 배운 'log-likelihood'의 도출 과정을 참고하면, '이진 분류 체계'에서 두 식의 동일성을 유도하는데 도움이 될 수 있습니다."
   ]
  },
  {
   "cell_type": "code",
   "execution_count": null,
   "metadata": {},
   "outputs": [],
   "source": []
  }
 ],
 "metadata": {
  "kernelspec": {
   "display_name": "Python 3",
   "language": "python",
   "name": "python3"
  },
  "language_info": {
   "codemirror_mode": {
    "name": "ipython",
    "version": 3
   },
   "file_extension": ".py",
   "mimetype": "text/x-python",
   "name": "python",
   "nbconvert_exporter": "python",
   "pygments_lexer": "ipython3",
   "version": "3.6.10"
  }
 },
 "nbformat": 4,
 "nbformat_minor": 4
}
