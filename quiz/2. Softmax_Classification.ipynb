{
 "cells": [
  {
   "cell_type": "markdown",
   "metadata": {},
   "source": [
    "# 20200611 Lab06: SOFTMAX Classification"
   ]
  },
  {
   "cell_type": "code",
   "execution_count": 1,
   "metadata": {},
   "outputs": [],
   "source": [
    "import tensorflow as tf\n",
    "import numpy as np"
   ]
  },
  {
   "cell_type": "markdown",
   "metadata": {},
   "source": [
    "## Create Dataset"
   ]
  },
  {
   "cell_type": "code",
   "execution_count": 89,
   "metadata": {},
   "outputs": [],
   "source": [
    "x_data = [[1, 2, 1, 1],\n",
    "          [2, 1, 3, 2],\n",
    "          [3, 1, 3, 4],\n",
    "          [4, 1, 5, 5],\n",
    "          [1, 7, 5, 5],\n",
    "          [1, 2, 5, 6],\n",
    "          [1, 6, 6, 6],\n",
    "          [1, 7, 7, 7]]\n",
    "y_data = [[0, 0, 1],\n",
    "          [0, 0, 1],\n",
    "          [0, 0, 1],\n",
    "          [0, 1, 0],\n",
    "          [0, 1, 0],\n",
    "          [0, 1, 0],\n",
    "          [1, 0, 0],\n",
    "          [1, 0, 0]]"
   ]
  },
  {
   "cell_type": "markdown",
   "metadata": {},
   "source": [
    "### 문제 1: 'Softmax Classification' 단계별로 이해하기\n",
    "\n",
    "- 각 단계별로 존재하는 '???'을 채워주세요!\n",
    "- '???'의 개수에 상관없이, 분류 모델이 제대로 작동할 수 있도록 셀(cell)을 작성해도 좋습니다.\n",
    "- 단계별로 존재하는 주석을 참조하시면 문제 풀이에 도움이 될 수 있습니다.\n",
    "- 텐서플로우의 모든 메소드를 암기하는 것이 꼭 필요한지도 모르겠고, 아직 불가능하다고 생각합니다. 다만 식이 전개되는 과정과, 어떤 변수가 어떤 스텝에서 어디에 할당되는지에 초점을 맞추고 문제를 풀어주시면 좋을 것 같습니다."
   ]
  },
  {
   "cell_type": "code",
   "execution_count": 90,
   "metadata": {},
   "outputs": [
    {
     "name": "stdout",
     "output_type": "stream",
     "text": [
      "(8, 4)\n",
      "(8, 3)\n"
     ]
    }
   ],
   "source": [
    "# convert into numpy and float format\n",
    "x_data = np.array(x_data, dtype='float32')\n",
    "y_data = np.array(y_data, dtype='float32')\n",
    "\n",
    "nb_classes = 3 # assign number of classes\n",
    "\n",
    "print(x_data.shape)\n",
    "print(y_data.shape)"
   ]
  },
  {
   "cell_type": "markdown",
   "metadata": {},
   "source": [
    "## Weight and Bias"
   ]
  },
  {
   "cell_type": "code",
   "execution_count": 131,
   "metadata": {},
   "outputs": [
    {
     "name": "stdout",
     "output_type": "stream",
     "text": [
      "<tf.Variable 'weight:0' shape=(4, 3) dtype=float32, numpy=\n",
      "array([[ 1.1418272 ,  0.09217681,  0.45604834],\n",
      "       [-0.6689453 , -0.23584062,  1.364712  ],\n",
      "       [ 0.76964015, -1.1848927 ,  0.3692249 ],\n",
      "       [ 1.8074064 , -0.6818398 , -0.2481708 ]], dtype=float32)> <tf.Variable 'bias:0' shape=(3,) dtype=float32, numpy=array([-0.63958806, -0.19781014, -0.2723026 ], dtype=float32)>\n"
     ]
    }
   ],
   "source": [
    "W = tf.Variable(tf.random.normal([4, nb_classes]), name = 'weight') # Weight의 shape: (변수 수, 클래수 수)\n",
    "b = tf.Variable(tf.random.normal([nb_classes]), name = 'bias') # bias의 shape: (클래스 수)\n",
    "variables = [W, b]\n",
    "\n",
    "print(W, b)"
   ]
  },
  {
   "cell_type": "markdown",
   "metadata": {},
   "source": [
    "## Softmax Regression"
   ]
  },
  {
   "cell_type": "code",
   "execution_count": 103,
   "metadata": {},
   "outputs": [
    {
     "name": "stdout",
     "output_type": "stream",
     "text": [
      "tf.Tensor(\n",
      "[[ -1.5600209  -1.2019196  -3.490603 ]\n",
      " [ -6.374506   -0.1434229  -7.9475317]\n",
      " [ -7.970931   -3.7607284 -11.147406 ]\n",
      " [-12.410716   -2.6771297 -15.665702 ]\n",
      " [ -7.8023987  -2.1412134 -14.204047 ]\n",
      " [-10.080752   -4.011161  -15.192174 ]\n",
      " [-10.206067   -2.432518  -16.744333 ]\n",
      " [-11.860335   -2.6736155 -19.407352 ]], shape=(8, 3), dtype=float32)\n"
     ]
    }
   ],
   "source": [
    "def hypothesis(X):\n",
    "    return tf.matmul(X, W) + b\n",
    "\n",
    "print(hypothesis(x_data))"
   ]
  },
  {
   "cell_type": "markdown",
   "metadata": {},
   "source": [
    "## Cost Function(Cross Entropy) & Gradient Descent\n",
    "- 비용함수를 정의함에 있어 tensorflow의 keras.losses.categorical_crossentropy 메소드를 사용해도 좋습니다!"
   ]
  },
  {
   "cell_type": "code",
   "execution_count": 132,
   "metadata": {},
   "outputs": [],
   "source": [
    "def logit_fn(X) :\n",
    "    return tf.matmul(X, W) + b\n",
    "\n",
    "def hypothesis(X) :\n",
    "    return tf.nn.softmax(logit_fn(X))\n",
    "\n",
    "def cost_fn(X, Y) :\n",
    "    logits = logit_fn(X)\n",
    "    cost_i = tf.keras.losses.categorical_crossentropy(y_true=Y, y_pred=logits,\n",
    "                                                      from_logits=True)\n",
    "    cost = tf.reduce_mean(cost_i)\n",
    "    return cost\n",
    "\n",
    "def cost_fn2(X, Y) :\n",
    "    logits = hypothesis(X)\n",
    "    cost = tf.reduce_mean(-tf.reduce_sum(Y * tf.math.log(logits), axis=1)) \n",
    "    return cost"
   ]
  },
  {
   "cell_type": "code",
   "execution_count": 133,
   "metadata": {},
   "outputs": [
    {
     "name": "stdout",
     "output_type": "stream",
     "text": [
      "tf.Tensor(10.664778, shape=(), dtype=float32)\n",
      "tf.Tensor(10.664778, shape=(), dtype=float32)\n"
     ]
    }
   ],
   "source": [
    "print(cost_fn(x_data, y_data))\n",
    "print(cost_fn2(x_data, y_data))"
   ]
  },
  {
   "cell_type": "code",
   "execution_count": 116,
   "metadata": {},
   "outputs": [],
   "source": [
    "def grad_fn(X,Y): # 비용함수를 최적화하기 위해 Gradient Descent 방식을 사용합니다\n",
    "    with tf.GradientTape() as tape :\n",
    "        loss = cost_fn(X, Y)\n",
    "        grads = tape.gradient(loss, variables)\n",
    "        return grads"
   ]
  },
  {
   "cell_type": "markdown",
   "metadata": {},
   "source": [
    "## Train"
   ]
  },
  {
   "cell_type": "code",
   "execution_count": 117,
   "metadata": {},
   "outputs": [
    {
     "name": "stdout",
     "output_type": "stream",
     "text": [
      "Loss at epoch 1: 1.156445\n",
      "Loss at epoch 100: 1.124177\n",
      "Loss at epoch 200: 0.960401\n",
      "Loss at epoch 300: 0.929183\n",
      "Loss at epoch 400: 0.907474\n",
      "Loss at epoch 500: 0.891111\n",
      "Loss at epoch 600: 0.879189\n",
      "Loss at epoch 700: 0.870478\n",
      "Loss at epoch 800: 0.863900\n",
      "Loss at epoch 900: 0.858724\n",
      "Loss at epoch 1000: 0.854497\n",
      "Loss at epoch 1100: 0.850939\n",
      "Loss at epoch 1200: 0.847877\n",
      "Loss at epoch 1300: 0.845196\n",
      "Loss at epoch 1400: 0.842819\n",
      "Loss at epoch 1500: 0.840689\n",
      "Loss at epoch 1600: 0.838768\n",
      "Loss at epoch 1700: 0.837023\n",
      "Loss at epoch 1800: 0.835429\n",
      "Loss at epoch 1900: 0.833969\n",
      "Loss at epoch 2000: 0.832624\n"
     ]
    }
   ],
   "source": [
    "def fit(X, Y, epochs=2000, verbose=100):\n",
    "    optimizer = tf.keras.optimizers.SGD(learning_rate=0.1)\n",
    "    \n",
    "    for i in range(epochs):\n",
    "        grads = grad_fn(x_data, y_data)\n",
    "        optimizer.apply_gradients(zip(grads, variables))\n",
    "        \n",
    "        if (i==0) | ((i+1)%verbose == 0): # 손실이 줄어드는 과정을 출력\n",
    "            print('Loss at epoch %d: %f' %(i+1, cost_fn(X,Y).numpy()))\n",
    "            \n",
    "fit(x_data, y_data)"
   ]
  },
  {
   "cell_type": "markdown",
   "metadata": {},
   "source": [
    "## Prediction Check\n",
    "\n",
    "- Softmax function을 통과한 샘플 데이터의 확률값과 y_data에 기반해 예측된 분류값을 출력해주세요"
   ]
  },
  {
   "cell_type": "code",
   "execution_count": 119,
   "metadata": {},
   "outputs": [
    {
     "name": "stdout",
     "output_type": "stream",
     "text": [
      "tf.Tensor([[-9.8245325 -3.3853965 -1.2555335]], shape=(1, 3), dtype=float32)\n",
      "tf.Tensor([2], shape=(1,), dtype=int64)\n"
     ]
    }
   ],
   "source": [
    "# Prediction\n",
    "\n",
    "sample_data = [[2,1,3,2]]\n",
    "sample_data = np.asarray(sample_data, dtype=np.float32) # array 형태로 바꿔주세요\n",
    "\n",
    "print(hypothesis(sample_data)) # sample_data의 각 범주에 대한 확률값을 출력해주세요\n",
    "print(tf.argmax(hypothesis(sample_data), 1)) # 2차원 배열의 1번째 행에서, 예측된 범주를 출력해주세요(아래 출력 결과를 참고하시면 됩니다)"
   ]
  },
  {
   "cell_type": "code",
   "execution_count": 120,
   "metadata": {},
   "outputs": [
    {
     "data": {
      "text/plain": [
       "<tf.Tensor: shape=(1, 3), dtype=float32, numpy=array([[-4.2076755, -4.591408 ,  2.5465393]], dtype=float32)>"
      ]
     },
     "execution_count": 120,
     "metadata": {},
     "output_type": "execute_result"
    }
   ],
   "source": [
    "hypothesis([x_data[0]])"
   ]
  },
  {
   "cell_type": "code",
   "execution_count": 121,
   "metadata": {},
   "outputs": [
    {
     "name": "stdout",
     "output_type": "stream",
     "text": [
      "tf.Tensor(\n",
      "[[ -4.2076755   -4.591408     2.546539  ]\n",
      " [ -9.8245325   -3.3853967   -1.2555337 ]\n",
      " [-12.500203    -6.191369    -4.187501  ]\n",
      " [-18.377962    -5.2424574   -7.133137  ]\n",
      " [-16.622204    -1.5251722   -6.0002713 ]\n",
      " [-16.102001    -0.7660184  -12.416063  ]\n",
      " [-19.138807    -0.18014097 -10.063955  ]\n",
      " [-22.177214     0.65069246 -12.414768  ]], shape=(8, 3), dtype=float32)\n",
      "tf.Tensor([2], shape=(1,), dtype=int64)\n",
      "[0. 0. 1.]\n"
     ]
    }
   ],
   "source": [
    "print(hypothesis(x_data)) # x_data의 각 범주에 대한 확률 값을 출력해주세요(필요하다면 변수를 할당해서 진행하세요)\n",
    "print(tf.argmax(hypothesis([x_data[0]]), 1)) # x_data의 1번째 행에 대해, 예측된 범주를 출력해주세요(아래 출력 결과를 참고하시면 됩니다)\n",
    "print(y_data[0]) # y_data의 실제 값을 출력해서, 바로 윗줄에서 예측한 범주와 일치하는지 확인하세요"
   ]
  },
  {
   "cell_type": "markdown",
   "metadata": {},
   "source": [
    "## 문제2: 'softmax_classifier' 클라스 정의하기\n",
    "\n",
    "- 위에서 단계적으로 구현한 함수를 바탕으로, 'softmax_classifier'의 메소드를 정의하고 주어진 샘플 데이터의 범주를 예측하세요"
   ]
  },
  {
   "cell_type": "code",
   "execution_count": 123,
   "metadata": {},
   "outputs": [],
   "source": [
    "class softmax_classifier(tf.keras.Model):\n",
    "    def __init__(self, n_features, nb_classes):\n",
    "        self.W = tf.Variable(tf.random.normal([n_features, nb_classes]), name='weight')\n",
    "        self.b = tf.Variable(tf.random.normal([nb_classes]), name='bias')\n",
    "        self.variable = [self.W, self.b]\n",
    "        \n",
    "    def softmax_regression(self, X):\n",
    "        return tf.nn.softmax(tf.matmul(X, self.W) + self.b)\n",
    "    \n",
    "    def cost_fn(self, X, Y):\n",
    "        logits = self.softmax_regression(X)\n",
    "        cost = tf.reduce_mean(-tf.reduce_sum(Y * tf.math.log(logits), axis=1))\n",
    "        return cost\n",
    "    \n",
    "    def grad_fn(self, X, Y):\n",
    "        with tf.GradientTape() as tape:\n",
    "            cost = self.cost_fn(X, Y)\n",
    "            grads = tape.gradient(cost, self.variable)\n",
    "            return grads\n",
    "        \n",
    "    def fit(self, X, Y, epochs=2000, verbose=500):\n",
    "        optimizer = tf.keras.optimizers.SGD(learning_rate=0.1)\n",
    "        for i in range(epochs):\n",
    "            grads = self.grad_fn(X, Y)\n",
    "            optimizer.apply_gradients(zip(grads, self.variable))\n",
    "            if (i==0) | ((i+1)%verbose==0):\n",
    "                print('Loss at epoch %d: %f' %(i+1, self.cost_fn(X, Y).numpy()))"
   ]
  },
  {
   "cell_type": "markdown",
   "metadata": {},
   "source": [
    "### x_data, y_data를 참고해 nb_classes를 할당하고, 학습을 진행하세요"
   ]
  },
  {
   "cell_type": "markdown",
   "metadata": {},
   "source": [
    "### 위에서 학습한 모델을 바탕으로, 주어진 sample data의 범주를 예측하세요\n",
    "- 예측 과정을 class 내부에 정의하셔도 좋습니다"
   ]
  },
  {
   "cell_type": "code",
   "execution_count": 124,
   "metadata": {},
   "outputs": [
    {
     "name": "stdout",
     "output_type": "stream",
     "text": [
      "Loss at epoch 1: 2.490724\n",
      "Loss at epoch 500: 0.371896\n",
      "Loss at epoch 1000: 0.224398\n",
      "Loss at epoch 1500: 0.179537\n",
      "Loss at epoch 2000: 0.149312\n"
     ]
    }
   ],
   "source": [
    "model = softmax_classifier(n_features=4, nb_classes=3)\n",
    "model.fit(x_data, y_data)"
   ]
  },
  {
   "cell_type": "code",
   "execution_count": 125,
   "metadata": {},
   "outputs": [
    {
     "data": {
      "text/plain": [
       "<tf.Tensor: shape=(1,), dtype=int64, numpy=array([2], dtype=int64)>"
      ]
     },
     "execution_count": 125,
     "metadata": {},
     "output_type": "execute_result"
    }
   ],
   "source": [
    "sample_data_2 = [[3,6,1,1]]\n",
    "sample_data_2 = np.asarray(sample_data_2, dtype=np.float32)\n",
    "tf.argmax(model.softmax_regression(sample_data_2), axis=1)"
   ]
  }
 ],
 "metadata": {
  "kernelspec": {
   "display_name": "Python 3",
   "language": "python",
   "name": "python3"
  },
  "language_info": {
   "codemirror_mode": {
    "name": "ipython",
    "version": 3
   },
   "file_extension": ".py",
   "mimetype": "text/x-python",
   "name": "python",
   "nbconvert_exporter": "python",
   "pygments_lexer": "ipython3",
   "version": "3.7.7"
  },
  "toc": {
   "base_numbering": 1,
   "nav_menu": {},
   "number_sections": true,
   "sideBar": true,
   "skip_h1_title": false,
   "title_cell": "Table of Contents",
   "title_sidebar": "Contents",
   "toc_cell": false,
   "toc_position": {},
   "toc_section_display": true,
   "toc_window_display": false
  }
 },
 "nbformat": 4,
 "nbformat_minor": 4
}
