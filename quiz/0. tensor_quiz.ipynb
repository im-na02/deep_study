{
 "cells": [
  {
   "cell_type": "code",
   "execution_count": null,
   "metadata": {},
   "outputs": [],
   "source": [
    "import tensorflow as tf"
   ]
  },
  {
   "cell_type": "markdown",
   "metadata": {},
   "source": [
    "\n",
    "아래 주어진 여섯 개 tensor를 사용하여 문제를 풀어주세요. <br>\n",
    "문제 아래 빈 셀에 정답을 입력하시면 됩니다. <br>\n",
    "(tensor 객체에 .numpy() 메소드를 사용하면 배열값만 꺼낼 수 있습니다.)"
   ]
  },
  {
   "cell_type": "code",
   "execution_count": 31,
   "metadata": {},
   "outputs": [],
   "source": [
    "c1 = tf.constant(3)\n",
    "c2 = tf.constant([1, 5])\n",
    "c3 = tf.constant([[1, 2], [5, 6]])\n",
    "c4 = tf.constant([[1, 2], [5, 6], [3, 4], [-1, 8]])\n",
    "c5 = tf.constant([[10, 20, 30], [-1, -2 ,-3]])\n",
    "c6 = tf.constant([[[1,2]], [[3,4]], [[5,6]]])"
   ]
  },
  {
   "cell_type": "code",
   "execution_count": 40,
   "metadata": {},
   "outputs": [
    {
     "name": "stdout",
     "output_type": "stream",
     "text": [
      "c1 = tf.Tensor(3, shape=(), dtype=int32)\n",
      "c1.numpy() = 3\n"
     ]
    }
   ],
   "source": [
    "print('c1 =', c1)\n",
    "print('c1.numpy() =', c1.numpy())"
   ]
  },
  {
   "cell_type": "markdown",
   "metadata": {},
   "source": [
    "　"
   ]
  },
  {
   "cell_type": "markdown",
   "metadata": {},
   "source": [
    "#### 덧셈: 'tf.add 함수' 혹은 '+ 연산자'를 사용"
   ]
  },
  {
   "cell_type": "code",
   "execution_count": 32,
   "metadata": {},
   "outputs": [
    {
     "name": "stdout",
     "output_type": "stream",
     "text": [
      "- 예시\n",
      "result1= [2 4]\n",
      "result2= [2 4]\n"
     ]
    }
   ],
   "source": [
    "# 예시\n",
    "print('- 예시')\n",
    "result1 = tf.constant([1,2]) + tf.constant([1,2])\n",
    "print('result1=', result1.numpy())\n",
    "result2 = tf.add(tf.constant([1,2]), tf.constant([1,2]))\n",
    "print('result2=', result2.numpy())"
   ]
  },
  {
   "cell_type": "markdown",
   "metadata": {},
   "source": [
    "1-1. c1, c2를 사용하여 [4, 8] 을 만드세요"
   ]
  },
  {
   "cell_type": "code",
   "execution_count": null,
   "metadata": {},
   "outputs": [],
   "source": []
  },
  {
   "cell_type": "markdown",
   "metadata": {},
   "source": [
    "1-2. c2, c3을 사용하여 [[ 2,  7], [ 6, 11]]를 만드세요."
   ]
  },
  {
   "cell_type": "code",
   "execution_count": null,
   "metadata": {},
   "outputs": [],
   "source": []
  },
  {
   "cell_type": "markdown",
   "metadata": {},
   "source": [
    "1-3. c2, c4를 사용하여 [[ 2,  7], [ 6, 11], [ 4,  9], [ 0, 13]] 를 만드세요."
   ]
  },
  {
   "cell_type": "code",
   "execution_count": null,
   "metadata": {},
   "outputs": [],
   "source": []
  },
  {
   "cell_type": "markdown",
   "metadata": {},
   "source": [
    "　"
   ]
  },
  {
   "cell_type": "markdown",
   "metadata": {},
   "source": [
    "#### 곱셈(행렬곱 X): 'tf.multiply 함수' 혹은 '* 연산자'를 사용"
   ]
  },
  {
   "cell_type": "code",
   "execution_count": 13,
   "metadata": {},
   "outputs": [
    {
     "name": "stdout",
     "output_type": "stream",
     "text": [
      "- 예시\n",
      "result1= [1 4]\n",
      "result2= [1 4]\n"
     ]
    }
   ],
   "source": [
    "print('- 예시')\n",
    "result1 = tf.constant([1,2]) * tf.constant([1,2])\n",
    "print('result1=', result1.numpy())\n",
    "result2 = tf.multiply(tf.constant([1,2]), tf.constant([1,2]))\n",
    "print('result2=', result2.numpy())"
   ]
  },
  {
   "cell_type": "markdown",
   "metadata": {},
   "source": [
    "2-1. c1, c2를 사용하여 [3, 15] 를 만드세요."
   ]
  },
  {
   "cell_type": "code",
   "execution_count": null,
   "metadata": {},
   "outputs": [],
   "source": []
  },
  {
   "cell_type": "markdown",
   "metadata": {},
   "source": [
    "2-2. c2, c3를 사용하여 [[ 1, 10], [ 5, 30]] 를 만드세요."
   ]
  },
  {
   "cell_type": "code",
   "execution_count": null,
   "metadata": {},
   "outputs": [],
   "source": []
  },
  {
   "cell_type": "markdown",
   "metadata": {},
   "source": [
    "2-3. c2, c4를 사용하여 [[ 1, 10], [ 5, 30], [ 3, 20], [-1, 40]] 를 만드세요."
   ]
  },
  {
   "cell_type": "code",
   "execution_count": null,
   "metadata": {},
   "outputs": [],
   "source": []
  },
  {
   "cell_type": "markdown",
   "metadata": {},
   "source": [
    "　"
   ]
  },
  {
   "cell_type": "markdown",
   "metadata": {},
   "source": [
    "#### 행렬곱: tf.matmul 함수 사용"
   ]
  },
  {
   "cell_type": "markdown",
   "metadata": {},
   "source": [
    "3-1. c4와 c5의 행렬곱 연산을 수행하고 그 결과를 출력하세요."
   ]
  },
  {
   "cell_type": "code",
   "execution_count": null,
   "metadata": {},
   "outputs": [],
   "source": []
  },
  {
   "cell_type": "markdown",
   "metadata": {},
   "source": [
    "3-2. c2의 차원을 증가시켜 c3과의 행렬곱 연산이 가능하도록 만들고, 차원을 증가시킨 c2와 c3의 행렬곱 연산을 수행하고 그 결과를 출력하세요. (차원 증가 함수는 tf.expand_dims 입니다. 아래 예시가 있습니다.)"
   ]
  },
  {
   "cell_type": "code",
   "execution_count": 18,
   "metadata": {},
   "outputs": [
    {
     "name": "stdout",
     "output_type": "stream",
     "text": [
      "axis=0 :\n",
      " [[1 2]]\n",
      "\n",
      "axis=1 :\n",
      " [[1]\n",
      " [2]]\n"
     ]
    }
   ],
   "source": [
    "print('axis=0 :\\n', tf.expand_dims(tf.constant([1,2]), axis=0).numpy()) # [[1 2]]\n",
    "print('\\naxis=1 :\\n', tf.expand_dims(tf.constant([1,2]), axis=1).numpy()) # [[1] [2]]\n",
    "# -- axis=0은 첫 번째 차원 증가, axis=1은 두 번째 차원 증가, axis=2은 세 번째 차원 증가, ... 를 의미합니다."
   ]
  },
  {
   "cell_type": "code",
   "execution_count": null,
   "metadata": {},
   "outputs": [],
   "source": []
  },
  {
   "cell_type": "markdown",
   "metadata": {},
   "source": [
    "　"
   ]
  },
  {
   "cell_type": "markdown",
   "metadata": {},
   "source": [
    "#### 평균: tf.reduce_mean"
   ]
  },
  {
   "cell_type": "code",
   "execution_count": 20,
   "metadata": {},
   "outputs": [
    {
     "name": "stdout",
     "output_type": "stream",
     "text": [
      "- 예시\n",
      "result= 3\n"
     ]
    }
   ],
   "source": [
    "print('- 예시')\n",
    "result = tf.reduce_mean(tf.constant([1,2,3,4,5])).numpy()\n",
    "print('result=', result)"
   ]
  },
  {
   "cell_type": "markdown",
   "metadata": {},
   "source": [
    "4-1. c2의 평균을 출력하세요"
   ]
  },
  {
   "cell_type": "code",
   "execution_count": null,
   "metadata": {},
   "outputs": [],
   "source": []
  },
  {
   "cell_type": "markdown",
   "metadata": {},
   "source": [
    "4-2. c3의 1)행 단위 mean 값과, 2)열 단위 mean 값을 출력하세요. <br><br>\n",
    "axis 파라미터를 사용합니다. <br>\n",
    "axis=0은 행의 차원을 reduce하여 mean을 반환하고, <br>\n",
    "axis=1은 열의 차원을 reduce하여 mean을 반환합니다. <br>"
   ]
  },
  {
   "cell_type": "code",
   "execution_count": null,
   "metadata": {},
   "outputs": [],
   "source": []
  },
  {
   "cell_type": "code",
   "execution_count": null,
   "metadata": {},
   "outputs": [],
   "source": []
  },
  {
   "cell_type": "markdown",
   "metadata": {},
   "source": [
    "　"
   ]
  },
  {
   "cell_type": "markdown",
   "metadata": {},
   "source": [
    "#### 최대값: tf.reduce_max"
   ]
  },
  {
   "cell_type": "code",
   "execution_count": 22,
   "metadata": {},
   "outputs": [
    {
     "name": "stdout",
     "output_type": "stream",
     "text": [
      "- 예시\n",
      "result= 5\n"
     ]
    }
   ],
   "source": [
    "print('- 예시')\n",
    "result = tf.reduce_max(tf.constant([1,2,3,4,5])).numpy()\n",
    "print('result=', result)"
   ]
  },
  {
   "cell_type": "markdown",
   "metadata": {},
   "source": [
    "5-1. c5의 1)행 단위 max 값과, 2)열 단위 max 값을 출력하세요. <br><br>\n",
    "axis 파라미터를 사용합니다. <br>\n",
    "axis=0은 행의 차원을 reduce하여 max를 반환하고,  <br>\n",
    "axis=1은 열의 차원을 reduce하여 max를 반환합니다. <br>\n"
   ]
  },
  {
   "cell_type": "code",
   "execution_count": null,
   "metadata": {},
   "outputs": [],
   "source": []
  },
  {
   "cell_type": "code",
   "execution_count": null,
   "metadata": {},
   "outputs": [],
   "source": []
  },
  {
   "cell_type": "markdown",
   "metadata": {},
   "source": [
    "　"
   ]
  },
  {
   "cell_type": "markdown",
   "metadata": {},
   "source": [
    "#### 차원 감소: tf.squeeze\n",
    "차원 증가시키는 tf.expand_dims와 반대되는 기능을 합니다."
   ]
  },
  {
   "cell_type": "code",
   "execution_count": 26,
   "metadata": {},
   "outputs": [
    {
     "name": "stdout",
     "output_type": "stream",
     "text": [
      "- 예시\n",
      "result1:\n",
      " [0 1 2]\n",
      "\n",
      "result2:\n",
      " [[0]\n",
      " [1]\n",
      " [2]]\n",
      "\n",
      "result3:\n",
      " [[0 1 2]]\n"
     ]
    }
   ],
   "source": [
    "print('- 예시')\n",
    "result1 = tf.squeeze(tf.constant([[[0], [1], [2]]])).numpy()\n",
    "result2 = tf.squeeze(tf.constant([[[0], [1], [2]]]), axis=0).numpy()\n",
    "result3 = tf.squeeze(tf.constant([[[0], [1], [2]]]), axis=2).numpy()\n",
    "print('result1:\\n', result1); print('\\nresult2:\\n', result2); print('\\nresult3:\\n', result3)"
   ]
  },
  {
   "cell_type": "markdown",
   "metadata": {},
   "source": [
    "6-1. 현재 shape=(3, 1, 2)인 c6의 차원을 감소시켜 shape=(3, 2) 형태로 만드세요."
   ]
  },
  {
   "cell_type": "code",
   "execution_count": null,
   "metadata": {},
   "outputs": [],
   "source": []
  },
  {
   "cell_type": "markdown",
   "metadata": {},
   "source": [
    "　"
   ]
  },
  {
   "cell_type": "markdown",
   "metadata": {},
   "source": [
    "#### 행렬 형태 변형: tf.reshape"
   ]
  },
  {
   "cell_type": "code",
   "execution_count": 28,
   "metadata": {},
   "outputs": [
    {
     "name": "stdout",
     "output_type": "stream",
     "text": [
      "- 예시\n",
      "result= [1 2 3 4 5 6]\n"
     ]
    }
   ],
   "source": [
    "print('- 예시')\n",
    "result = tf.reshape(tf.constant([[1,2,3],[4,5,6]]), [6]).numpy()\n",
    "print('result=', result)"
   ]
  },
  {
   "cell_type": "markdown",
   "metadata": {},
   "source": [
    "7-1. c2를 reshape하여 [[1], [5]] 와 같이 만드세요."
   ]
  },
  {
   "cell_type": "code",
   "execution_count": null,
   "metadata": {},
   "outputs": [],
   "source": []
  },
  {
   "cell_type": "markdown",
   "metadata": {},
   "source": [
    "7-2. c4를 reshape하여 [[1,2,5,6], [3,4,-1,8]] 와 같이 만드세요."
   ]
  },
  {
   "cell_type": "code",
   "execution_count": null,
   "metadata": {},
   "outputs": [],
   "source": []
  },
  {
   "cell_type": "markdown",
   "metadata": {},
   "source": [
    "　"
   ]
  },
  {
   "cell_type": "markdown",
   "metadata": {},
   "source": [
    "　"
   ]
  },
  {
   "cell_type": "markdown",
   "metadata": {},
   "source": [
    "![python image2](https://thumbs.gfycat.com/CrispAnotherAlpineroadguidetigerbeetle-size_restricted.gif) <br>\n",
    "<center>고생했습니다 ㅎㅎㅎ</center>"
   ]
  }
 ],
 "metadata": {
  "kernelspec": {
   "display_name": "Python 3",
   "language": "python",
   "name": "python3"
  },
  "language_info": {
   "codemirror_mode": {
    "name": "ipython",
    "version": 3
   },
   "file_extension": ".py",
   "mimetype": "text/x-python",
   "name": "python",
   "nbconvert_exporter": "python",
   "pygments_lexer": "ipython3",
   "version": "3.7.6"
  },
  "toc": {
   "base_numbering": 1,
   "nav_menu": {},
   "number_sections": true,
   "sideBar": true,
   "skip_h1_title": false,
   "title_cell": "Table of Contents",
   "title_sidebar": "Contents",
   "toc_cell": false,
   "toc_position": {},
   "toc_section_display": true,
   "toc_window_display": false
  }
 },
 "nbformat": 4,
 "nbformat_minor": 4
}
